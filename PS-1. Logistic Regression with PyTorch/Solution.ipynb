{
 "cells": [
  {
   "cell_type": "markdown",
   "metadata": {
    "id": "snDP1Elo1tbO"
   },
   "source": [
    "# Logistic Regression with Pytorch\n",
    "\n",
    "\n",
    "------------------------------------------------------\n",
    "*Pablo M. Olmos pamartin@ing.uc3m.es*\n",
    "\n",
    "------------------------------------------------------\n",
    "\n",
    "\n",
    "In this lab you will learn basic aspects about how to use [Pytorch](https://pytorch.org/) to train a logistic regressor in a binary classification problem. \n",
    "\n",
    "Pytorch is a powerful library to address Machine Learning problems in general, and deep learning problems in particular, as it provides with automatic differentiation tools. Namely, in our programs we will define functions $f_{\\mathbf{w}}(x)$ of given input data $x$ and some parameters $\\mathbf{w}$ to be optimized, and we will use Pytorch's [autograd package](https://pytorch.org/docs/stable/autograd.html) to automatically compute $\\nabla_{\\mathbf{w}} f_{\\mathbf{w}}(x)$, and then use the gradient into a Stochastic Gradient Descent (SGD) routine.\n",
    "\n",
    "But lets go step by step. First of all, we will load some database and perform some pre-processing. To do so, we will use the **[Python Data Analysis Library](https://pandas.pydata.org/)** (a.k.a. pandas). \n"
   ]
  },
  {
   "cell_type": "code",
   "execution_count": 1,
   "metadata": {
    "id": "sD2NcaTv1tbQ"
   },
   "outputs": [
    {
     "name": "stderr",
     "output_type": "stream",
     "text": [
      "C:\\Users\\Pablo\\AppData\\Local\\Temp\\ipykernel_18740\\2947839317.py:1: DeprecationWarning: \n",
      "Pyarrow will become a required dependency of pandas in the next major release of pandas (pandas 3.0),\n",
      "(to allow more performant data types, such as the Arrow string type, and better interoperability with other libraries)\n",
      "but was not found to be installed on your system.\n",
      "If this would cause problems for you,\n",
      "please provide us feedback at https://github.com/pandas-dev/pandas/issues/54466\n",
      "        \n",
      "  import pandas as pd # pd is simply an alias\n"
     ]
    }
   ],
   "source": [
    "import pandas as pd # pd is simply an alias \n",
    "import numpy as np\n",
    "import matplotlib.pyplot as plt\n",
    "\n",
    "%matplotlib inline \n",
    "%config InlineBackend.figure_format = 'retina' #High quality figures"
   ]
  },
  {
   "cell_type": "markdown",
   "metadata": {
    "id": "nflshO941tbQ"
   },
   "source": [
    "## Part I. Pre-processing a real dataset\n",
    "\n",
    "The [Breast Cancer Wisconsin (Diagnostic) Data Set](https://archive.ics.uci.edu/ml/datasets/Breast+Cancer+Wisconsin+(Diagnostic)) contains 10 features related to breast tumors that have been diagnosed as benign or malignant. You have a description of the 10 features in the link above. In the same link you can download the data set as a CSV file. \n",
    "\n",
    "We will import it directly using the following class"
   ]
  },
  {
   "cell_type": "code",
   "execution_count": 2,
   "metadata": {
    "id": "Lk72Ndrr1tbQ"
   },
   "outputs": [],
   "source": [
    "def load_breast():\n",
    "    data = pd.read_csv('https://archive.ics.uci.edu/ml/machine-learning-databases/breast-cancer-wisconsin/breast-cancer-wisconsin.data',header=None)\n",
    "    data.columns=['ID', 'Clump Thickness', 'Uniformity of Cell Size',\n",
    "       'Uniformity of Cell Shape', 'Marginal Adhesion',\n",
    "       'Single Epithelial Cell Size', 'Bare Nuclei', 'Bland Chromatin',\n",
    "       'Normal Nucleoli', 'Mitoses', 'Class']\n",
    "    return data"
   ]
  },
  {
   "cell_type": "code",
   "execution_count": 3,
   "metadata": {
    "id": "f3WjQKc21tbR"
   },
   "outputs": [],
   "source": [
    "''' Data is stored in a Dataframe, a particular data type implemented in Pandas'''\n",
    "\n",
    "data = load_breast()\n"
   ]
  },
  {
   "cell_type": "markdown",
   "metadata": {
    "id": "JeVKBOMK1tbR"
   },
   "source": [
    "Lets visualize the first 10 entries of the database with the `.head()` method"
   ]
  },
  {
   "cell_type": "code",
   "execution_count": 4,
   "metadata": {
    "colab": {
     "base_uri": "https://localhost:8080/",
     "height": 376
    },
    "id": "4wwCc2Ju1tbS",
    "outputId": "4b79c6b4-ff33-4250-fd2b-addcd344a373"
   },
   "outputs": [
    {
     "data": {
      "text/html": [
       "<div>\n",
       "<style scoped>\n",
       "    .dataframe tbody tr th:only-of-type {\n",
       "        vertical-align: middle;\n",
       "    }\n",
       "\n",
       "    .dataframe tbody tr th {\n",
       "        vertical-align: top;\n",
       "    }\n",
       "\n",
       "    .dataframe thead th {\n",
       "        text-align: right;\n",
       "    }\n",
       "</style>\n",
       "<table border=\"1\" class=\"dataframe\">\n",
       "  <thead>\n",
       "    <tr style=\"text-align: right;\">\n",
       "      <th></th>\n",
       "      <th>ID</th>\n",
       "      <th>Clump Thickness</th>\n",
       "      <th>Uniformity of Cell Size</th>\n",
       "      <th>Uniformity of Cell Shape</th>\n",
       "      <th>Marginal Adhesion</th>\n",
       "      <th>Single Epithelial Cell Size</th>\n",
       "      <th>Bare Nuclei</th>\n",
       "      <th>Bland Chromatin</th>\n",
       "      <th>Normal Nucleoli</th>\n",
       "      <th>Mitoses</th>\n",
       "      <th>Class</th>\n",
       "    </tr>\n",
       "  </thead>\n",
       "  <tbody>\n",
       "    <tr>\n",
       "      <th>0</th>\n",
       "      <td>1000025</td>\n",
       "      <td>5</td>\n",
       "      <td>1</td>\n",
       "      <td>1</td>\n",
       "      <td>1</td>\n",
       "      <td>2</td>\n",
       "      <td>1</td>\n",
       "      <td>3</td>\n",
       "      <td>1</td>\n",
       "      <td>1</td>\n",
       "      <td>2</td>\n",
       "    </tr>\n",
       "    <tr>\n",
       "      <th>1</th>\n",
       "      <td>1002945</td>\n",
       "      <td>5</td>\n",
       "      <td>4</td>\n",
       "      <td>4</td>\n",
       "      <td>5</td>\n",
       "      <td>7</td>\n",
       "      <td>10</td>\n",
       "      <td>3</td>\n",
       "      <td>2</td>\n",
       "      <td>1</td>\n",
       "      <td>2</td>\n",
       "    </tr>\n",
       "    <tr>\n",
       "      <th>2</th>\n",
       "      <td>1015425</td>\n",
       "      <td>3</td>\n",
       "      <td>1</td>\n",
       "      <td>1</td>\n",
       "      <td>1</td>\n",
       "      <td>2</td>\n",
       "      <td>2</td>\n",
       "      <td>3</td>\n",
       "      <td>1</td>\n",
       "      <td>1</td>\n",
       "      <td>2</td>\n",
       "    </tr>\n",
       "    <tr>\n",
       "      <th>3</th>\n",
       "      <td>1016277</td>\n",
       "      <td>6</td>\n",
       "      <td>8</td>\n",
       "      <td>8</td>\n",
       "      <td>1</td>\n",
       "      <td>3</td>\n",
       "      <td>4</td>\n",
       "      <td>3</td>\n",
       "      <td>7</td>\n",
       "      <td>1</td>\n",
       "      <td>2</td>\n",
       "    </tr>\n",
       "    <tr>\n",
       "      <th>4</th>\n",
       "      <td>1017023</td>\n",
       "      <td>4</td>\n",
       "      <td>1</td>\n",
       "      <td>1</td>\n",
       "      <td>3</td>\n",
       "      <td>2</td>\n",
       "      <td>1</td>\n",
       "      <td>3</td>\n",
       "      <td>1</td>\n",
       "      <td>1</td>\n",
       "      <td>2</td>\n",
       "    </tr>\n",
       "    <tr>\n",
       "      <th>5</th>\n",
       "      <td>1017122</td>\n",
       "      <td>8</td>\n",
       "      <td>10</td>\n",
       "      <td>10</td>\n",
       "      <td>8</td>\n",
       "      <td>7</td>\n",
       "      <td>10</td>\n",
       "      <td>9</td>\n",
       "      <td>7</td>\n",
       "      <td>1</td>\n",
       "      <td>4</td>\n",
       "    </tr>\n",
       "    <tr>\n",
       "      <th>6</th>\n",
       "      <td>1018099</td>\n",
       "      <td>1</td>\n",
       "      <td>1</td>\n",
       "      <td>1</td>\n",
       "      <td>1</td>\n",
       "      <td>2</td>\n",
       "      <td>10</td>\n",
       "      <td>3</td>\n",
       "      <td>1</td>\n",
       "      <td>1</td>\n",
       "      <td>2</td>\n",
       "    </tr>\n",
       "    <tr>\n",
       "      <th>7</th>\n",
       "      <td>1018561</td>\n",
       "      <td>2</td>\n",
       "      <td>1</td>\n",
       "      <td>2</td>\n",
       "      <td>1</td>\n",
       "      <td>2</td>\n",
       "      <td>1</td>\n",
       "      <td>3</td>\n",
       "      <td>1</td>\n",
       "      <td>1</td>\n",
       "      <td>2</td>\n",
       "    </tr>\n",
       "    <tr>\n",
       "      <th>8</th>\n",
       "      <td>1033078</td>\n",
       "      <td>2</td>\n",
       "      <td>1</td>\n",
       "      <td>1</td>\n",
       "      <td>1</td>\n",
       "      <td>2</td>\n",
       "      <td>1</td>\n",
       "      <td>1</td>\n",
       "      <td>1</td>\n",
       "      <td>5</td>\n",
       "      <td>2</td>\n",
       "    </tr>\n",
       "    <tr>\n",
       "      <th>9</th>\n",
       "      <td>1033078</td>\n",
       "      <td>4</td>\n",
       "      <td>2</td>\n",
       "      <td>1</td>\n",
       "      <td>1</td>\n",
       "      <td>2</td>\n",
       "      <td>1</td>\n",
       "      <td>2</td>\n",
       "      <td>1</td>\n",
       "      <td>1</td>\n",
       "      <td>2</td>\n",
       "    </tr>\n",
       "  </tbody>\n",
       "</table>\n",
       "</div>"
      ],
      "text/plain": [
       "        ID  Clump Thickness  Uniformity of Cell Size  \\\n",
       "0  1000025                5                        1   \n",
       "1  1002945                5                        4   \n",
       "2  1015425                3                        1   \n",
       "3  1016277                6                        8   \n",
       "4  1017023                4                        1   \n",
       "5  1017122                8                       10   \n",
       "6  1018099                1                        1   \n",
       "7  1018561                2                        1   \n",
       "8  1033078                2                        1   \n",
       "9  1033078                4                        2   \n",
       "\n",
       "   Uniformity of Cell Shape  Marginal Adhesion  Single Epithelial Cell Size  \\\n",
       "0                         1                  1                            2   \n",
       "1                         4                  5                            7   \n",
       "2                         1                  1                            2   \n",
       "3                         8                  1                            3   \n",
       "4                         1                  3                            2   \n",
       "5                        10                  8                            7   \n",
       "6                         1                  1                            2   \n",
       "7                         2                  1                            2   \n",
       "8                         1                  1                            2   \n",
       "9                         1                  1                            2   \n",
       "\n",
       "  Bare Nuclei  Bland Chromatin  Normal Nucleoli  Mitoses  Class  \n",
       "0           1                3                1        1      2  \n",
       "1          10                3                2        1      2  \n",
       "2           2                3                1        1      2  \n",
       "3           4                3                7        1      2  \n",
       "4           1                3                1        1      2  \n",
       "5          10                9                7        1      4  \n",
       "6          10                3                1        1      2  \n",
       "7           1                3                1        1      2  \n",
       "8           1                1                1        5      2  \n",
       "9           1                2                1        1      2  "
      ]
     },
     "execution_count": 4,
     "metadata": {},
     "output_type": "execute_result"
    }
   ],
   "source": [
    "data.head(10)"
   ]
  },
  {
   "cell_type": "markdown",
   "metadata": {
    "id": "5Av2pRBO1tbT"
   },
   "source": [
    "With the `.shape()` method we can check how many datapoints we have"
   ]
  },
  {
   "cell_type": "code",
   "execution_count": null,
   "metadata": {
    "colab": {
     "base_uri": "https://localhost:8080/"
    },
    "id": "8LTYWrG-1tbT",
    "outputId": "98dd3398-5332-47fc-d10f-fafbf55ebde4"
   },
   "outputs": [],
   "source": [
    "print('There are %d data points. Each one of dimension %d' %(data.shape[0],data.shape[1]))"
   ]
  },
  {
   "cell_type": "markdown",
   "metadata": {
    "id": "FpYEWcuf1tbT"
   },
   "source": [
    "We will do the following preprocessing steps. All of them are implemented in Pandas (it is advisory for very large databases):\n",
    "\n",
    "- Remove the 'ID' column. We won't use it anymore\n",
    "\n",
    "- Analyze missing data (Encoded in this database with a '?' by the column mode). \n",
    "\n",
    "- The tumor class is equal to 2 for bening tumors and to 4 for malignat tumors. We will replace this by 0 and 1 respectively\n",
    "\n",
    "- Create a train set and a test set\n",
    "\n",
    "- We will normalize all input variables so they all have zero mean and unit variance"
   ]
  },
  {
   "cell_type": "markdown",
   "metadata": {
    "id": "dbTsvxF01tbU"
   },
   "source": [
    "### Remove ID colum\n",
    "\n",
    "We can use the `.drop()` method. We use the input `inplace=True` to override the existing Dataframe."
   ]
  },
  {
   "cell_type": "code",
   "execution_count": 5,
   "metadata": {
    "id": "gLFAxVll1tbU"
   },
   "outputs": [],
   "source": [
    "data.drop('ID', axis=1, inplace=True)"
   ]
  },
  {
   "cell_type": "code",
   "execution_count": 6,
   "metadata": {
    "colab": {
     "base_uri": "https://localhost:8080/",
     "height": 376
    },
    "id": "Z6_iDrEs1tbU",
    "outputId": "00c3a234-a18f-480f-f4c9-36f9d4f71cb3"
   },
   "outputs": [
    {
     "data": {
      "text/html": [
       "<div>\n",
       "<style scoped>\n",
       "    .dataframe tbody tr th:only-of-type {\n",
       "        vertical-align: middle;\n",
       "    }\n",
       "\n",
       "    .dataframe tbody tr th {\n",
       "        vertical-align: top;\n",
       "    }\n",
       "\n",
       "    .dataframe thead th {\n",
       "        text-align: right;\n",
       "    }\n",
       "</style>\n",
       "<table border=\"1\" class=\"dataframe\">\n",
       "  <thead>\n",
       "    <tr style=\"text-align: right;\">\n",
       "      <th></th>\n",
       "      <th>Clump Thickness</th>\n",
       "      <th>Uniformity of Cell Size</th>\n",
       "      <th>Uniformity of Cell Shape</th>\n",
       "      <th>Marginal Adhesion</th>\n",
       "      <th>Single Epithelial Cell Size</th>\n",
       "      <th>Bare Nuclei</th>\n",
       "      <th>Bland Chromatin</th>\n",
       "      <th>Normal Nucleoli</th>\n",
       "      <th>Mitoses</th>\n",
       "      <th>Class</th>\n",
       "    </tr>\n",
       "  </thead>\n",
       "  <tbody>\n",
       "    <tr>\n",
       "      <th>0</th>\n",
       "      <td>5</td>\n",
       "      <td>1</td>\n",
       "      <td>1</td>\n",
       "      <td>1</td>\n",
       "      <td>2</td>\n",
       "      <td>1</td>\n",
       "      <td>3</td>\n",
       "      <td>1</td>\n",
       "      <td>1</td>\n",
       "      <td>2</td>\n",
       "    </tr>\n",
       "    <tr>\n",
       "      <th>1</th>\n",
       "      <td>5</td>\n",
       "      <td>4</td>\n",
       "      <td>4</td>\n",
       "      <td>5</td>\n",
       "      <td>7</td>\n",
       "      <td>10</td>\n",
       "      <td>3</td>\n",
       "      <td>2</td>\n",
       "      <td>1</td>\n",
       "      <td>2</td>\n",
       "    </tr>\n",
       "    <tr>\n",
       "      <th>2</th>\n",
       "      <td>3</td>\n",
       "      <td>1</td>\n",
       "      <td>1</td>\n",
       "      <td>1</td>\n",
       "      <td>2</td>\n",
       "      <td>2</td>\n",
       "      <td>3</td>\n",
       "      <td>1</td>\n",
       "      <td>1</td>\n",
       "      <td>2</td>\n",
       "    </tr>\n",
       "    <tr>\n",
       "      <th>3</th>\n",
       "      <td>6</td>\n",
       "      <td>8</td>\n",
       "      <td>8</td>\n",
       "      <td>1</td>\n",
       "      <td>3</td>\n",
       "      <td>4</td>\n",
       "      <td>3</td>\n",
       "      <td>7</td>\n",
       "      <td>1</td>\n",
       "      <td>2</td>\n",
       "    </tr>\n",
       "    <tr>\n",
       "      <th>4</th>\n",
       "      <td>4</td>\n",
       "      <td>1</td>\n",
       "      <td>1</td>\n",
       "      <td>3</td>\n",
       "      <td>2</td>\n",
       "      <td>1</td>\n",
       "      <td>3</td>\n",
       "      <td>1</td>\n",
       "      <td>1</td>\n",
       "      <td>2</td>\n",
       "    </tr>\n",
       "    <tr>\n",
       "      <th>5</th>\n",
       "      <td>8</td>\n",
       "      <td>10</td>\n",
       "      <td>10</td>\n",
       "      <td>8</td>\n",
       "      <td>7</td>\n",
       "      <td>10</td>\n",
       "      <td>9</td>\n",
       "      <td>7</td>\n",
       "      <td>1</td>\n",
       "      <td>4</td>\n",
       "    </tr>\n",
       "    <tr>\n",
       "      <th>6</th>\n",
       "      <td>1</td>\n",
       "      <td>1</td>\n",
       "      <td>1</td>\n",
       "      <td>1</td>\n",
       "      <td>2</td>\n",
       "      <td>10</td>\n",
       "      <td>3</td>\n",
       "      <td>1</td>\n",
       "      <td>1</td>\n",
       "      <td>2</td>\n",
       "    </tr>\n",
       "    <tr>\n",
       "      <th>7</th>\n",
       "      <td>2</td>\n",
       "      <td>1</td>\n",
       "      <td>2</td>\n",
       "      <td>1</td>\n",
       "      <td>2</td>\n",
       "      <td>1</td>\n",
       "      <td>3</td>\n",
       "      <td>1</td>\n",
       "      <td>1</td>\n",
       "      <td>2</td>\n",
       "    </tr>\n",
       "    <tr>\n",
       "      <th>8</th>\n",
       "      <td>2</td>\n",
       "      <td>1</td>\n",
       "      <td>1</td>\n",
       "      <td>1</td>\n",
       "      <td>2</td>\n",
       "      <td>1</td>\n",
       "      <td>1</td>\n",
       "      <td>1</td>\n",
       "      <td>5</td>\n",
       "      <td>2</td>\n",
       "    </tr>\n",
       "    <tr>\n",
       "      <th>9</th>\n",
       "      <td>4</td>\n",
       "      <td>2</td>\n",
       "      <td>1</td>\n",
       "      <td>1</td>\n",
       "      <td>2</td>\n",
       "      <td>1</td>\n",
       "      <td>2</td>\n",
       "      <td>1</td>\n",
       "      <td>1</td>\n",
       "      <td>2</td>\n",
       "    </tr>\n",
       "  </tbody>\n",
       "</table>\n",
       "</div>"
      ],
      "text/plain": [
       "   Clump Thickness  Uniformity of Cell Size  Uniformity of Cell Shape  \\\n",
       "0                5                        1                         1   \n",
       "1                5                        4                         4   \n",
       "2                3                        1                         1   \n",
       "3                6                        8                         8   \n",
       "4                4                        1                         1   \n",
       "5                8                       10                        10   \n",
       "6                1                        1                         1   \n",
       "7                2                        1                         2   \n",
       "8                2                        1                         1   \n",
       "9                4                        2                         1   \n",
       "\n",
       "   Marginal Adhesion  Single Epithelial Cell Size Bare Nuclei  \\\n",
       "0                  1                            2           1   \n",
       "1                  5                            7          10   \n",
       "2                  1                            2           2   \n",
       "3                  1                            3           4   \n",
       "4                  3                            2           1   \n",
       "5                  8                            7          10   \n",
       "6                  1                            2          10   \n",
       "7                  1                            2           1   \n",
       "8                  1                            2           1   \n",
       "9                  1                            2           1   \n",
       "\n",
       "   Bland Chromatin  Normal Nucleoli  Mitoses  Class  \n",
       "0                3                1        1      2  \n",
       "1                3                2        1      2  \n",
       "2                3                1        1      2  \n",
       "3                3                7        1      2  \n",
       "4                3                1        1      2  \n",
       "5                9                7        1      4  \n",
       "6                3                1        1      2  \n",
       "7                3                1        1      2  \n",
       "8                1                1        5      2  \n",
       "9                2                1        1      2  "
      ]
     },
     "execution_count": 6,
     "metadata": {},
     "output_type": "execute_result"
    }
   ],
   "source": [
    "# Lets check the result\n",
    "\n",
    "data.head(10)"
   ]
  },
  {
   "cell_type": "markdown",
   "metadata": {
    "id": "noPBZri21tbV"
   },
   "source": [
    "### About missing data\n",
    "\n",
    "Pandas considers values like `NaN` and `None` to represent missing data. The `pandas.isnull` function can be used to tell whether or not a value is missing. \n",
    "\n",
    "Let's use `apply()` across all of the columns in our DataFrame to figure out which values are missing. But first we  change the `?` missing codification by `NaN`."
   ]
  },
  {
   "cell_type": "code",
   "execution_count": 7,
   "metadata": {
    "id": "tHuN78rN1tbW"
   },
   "outputs": [],
   "source": [
    "data.replace('?', np.nan, inplace=True)"
   ]
  },
  {
   "cell_type": "code",
   "execution_count": 8,
   "metadata": {
    "id": "MgRIZFRe1tbW"
   },
   "outputs": [],
   "source": [
    "empty = data.apply(lambda col: pd.isnull(col))"
   ]
  },
  {
   "cell_type": "code",
   "execution_count": 9,
   "metadata": {
    "colab": {
     "base_uri": "https://localhost:8080/"
    },
    "id": "ykmbA_tW1tbW",
    "outputId": "7e705b3f-54f0-484f-b197-4c56686ac19a"
   },
   "outputs": [
    {
     "data": {
      "text/plain": [
       "Clump Thickness                 0\n",
       "Uniformity of Cell Size         0\n",
       "Uniformity of Cell Shape        0\n",
       "Marginal Adhesion               0\n",
       "Single Epithelial Cell Size     0\n",
       "Bare Nuclei                    16\n",
       "Bland Chromatin                 0\n",
       "Normal Nucleoli                 0\n",
       "Mitoses                         0\n",
       "Class                           0\n",
       "dtype: int64"
      ]
     },
     "execution_count": 9,
     "metadata": {},
     "output_type": "execute_result"
    }
   ],
   "source": [
    "empty.sum()"
   ]
  },
  {
   "cell_type": "markdown",
   "metadata": {
    "id": "Vq5Ki9PG1tbW"
   },
   "source": [
    "Observe that only one of the columns has 16 missing entries. For simplicity, let's remove this column. Be aware that in general we will impute missing data with some representative value. "
   ]
  },
  {
   "cell_type": "code",
   "execution_count": 10,
   "metadata": {
    "id": "eJBfpLzL1tbX"
   },
   "outputs": [],
   "source": [
    "data.drop('Bare Nuclei',axis=1, inplace=True)"
   ]
  },
  {
   "cell_type": "code",
   "execution_count": 11,
   "metadata": {
    "colab": {
     "base_uri": "https://localhost:8080/"
    },
    "id": "Fvk51o7O1tbX",
    "outputId": "052aad6c-1c35-4967-e991-07523dded602",
    "scrolled": true
   },
   "outputs": [
    {
     "data": {
      "text/plain": [
       "Clump Thickness                0\n",
       "Uniformity of Cell Size        0\n",
       "Uniformity of Cell Shape       0\n",
       "Marginal Adhesion              0\n",
       "Single Epithelial Cell Size    0\n",
       "Bland Chromatin                0\n",
       "Normal Nucleoli                0\n",
       "Mitoses                        0\n",
       "Class                          0\n",
       "dtype: int64"
      ]
     },
     "execution_count": 11,
     "metadata": {},
     "output_type": "execute_result"
    }
   ],
   "source": [
    "empty = data.apply(lambda col: pd.isnull(col))\n",
    "empty.sum()"
   ]
  },
  {
   "cell_type": "markdown",
   "metadata": {
    "id": "VdrCZkDr1tbX"
   },
   "source": [
    "### Create a binary class label\n",
    "\n",
    "To do so, we will create a simple function to convert the label and store the result in a new colum of the dataframe"
   ]
  },
  {
   "cell_type": "code",
   "execution_count": 12,
   "metadata": {
    "id": "wEsFf-nU1tbX"
   },
   "outputs": [],
   "source": [
    "def convert_to_binary(l):\n",
    "    return (l-2.0)/2"
   ]
  },
  {
   "cell_type": "code",
   "execution_count": 13,
   "metadata": {
    "id": "1Pva57pe1tbY"
   },
   "outputs": [],
   "source": [
    "# We create the new column\n",
    "\n",
    "data['Binary Class'] = data[['Class']].apply(lambda l: convert_to_binary(l))\n",
    "\n",
    "data.drop('Class', axis=1, inplace=True)"
   ]
  },
  {
   "cell_type": "markdown",
   "metadata": {
    "id": "MMz5KgwI1tbY"
   },
   "source": [
    "Lets take a look to the histogram of the binary class label"
   ]
  },
  {
   "cell_type": "code",
   "execution_count": 14,
   "metadata": {
    "colab": {
     "base_uri": "https://localhost:8080/",
     "height": 282
    },
    "id": "x4SNqFcz1tbY",
    "outputId": "2d5dcdc1-d28f-4772-cb48-775afe0d9b31"
   },
   "outputs": [
    {
     "data": {
      "text/plain": [
       "<Axes: >"
      ]
     },
     "execution_count": 14,
     "metadata": {},
     "output_type": "execute_result"
    },
    {
     "data": {
      "image/png": "[encoded data removed]",
      "text/plain": [
       "<Figure size 640x480 with 1 Axes>"
      ]
     },
     "metadata": {
      "image/png": {
       "height": 413,
       "width": 552
      }
     },
     "output_type": "display_data"
    }
   ],
   "source": [
    "data['Binary Class'].hist()"
   ]
  },
  {
   "cell_type": "markdown",
   "metadata": {
    "id": "fzO_eXNt1tbY"
   },
   "source": [
    "### Create a train and test sets\n",
    "\n",
    "We will simply split the dataset at random. 80% of the data will go to the training set, the rest to the test set. We will use [Numpy's random permutation function](https://docs.scipy.org/doc/numpy-1.15.0/reference/generated/numpy.random.permutation.html) and the `.iloc()` method. "
   ]
  },
  {
   "cell_type": "code",
   "execution_count": 15,
   "metadata": {
    "id": "cHdLTYa31tbY"
   },
   "outputs": [],
   "source": [
    "frac_train = 0.8\n",
    "\n",
    "data_train = int(data.shape[0]*frac_train) # Training points\n",
    "\n",
    "np.random.seed(seed=10) #To fix the random seed. So we all get the same partition\n",
    "\n",
    "mask = np.random.permutation(data.shape[0]) # Random order of data indexes\n",
    "\n",
    "train_data = data.iloc[list(mask[:data_train])].copy()\n",
    "\n",
    "test_data = data.iloc[list(mask[data_train:])].copy()\n"
   ]
  },
  {
   "cell_type": "markdown",
   "metadata": {
    "id": "olr1otg51tbZ"
   },
   "source": [
    "Note that we store the train and test data in separate Dataframes, so we can normalize them without modifying the original data (we could add more columns to the original Dataframe, but this would be later on annoying to index)."
   ]
  },
  {
   "cell_type": "markdown",
   "metadata": {
    "id": "SIH9arqw1tbZ"
   },
   "source": [
    "Also, the train/test partition and normalization can also easily done using Numpy and the [sklearn library](https://scikit-learn.org/stable/)."
   ]
  },
  {
   "cell_type": "markdown",
   "metadata": {
    "id": "CNz62-wD1tbZ"
   },
   "source": [
    "### Normalize input variables \n",
    "\n",
    "In general, it is not recommended that input variables (or features) are defined in different ranges. I.e., $x_1$ for instance takes values in the $[-1,1]$ set and $x_2$ takes values in the $[-10^6,10^6]$ range. \n",
    "\n",
    "To improve both the numerical robustness of our estimators and **enhance interpretability**, we will apply a linear normalization preprocessing stage to use as input to the linear regression features with (sample) mean 0 and (sample) variance equal to 1. \n",
    "\n",
    "Given the unnormalized feature matrix $\\mathbf{X}_{N\\times D}$, we compute the sample mean per feature column, $\\mu_j$, and the sample variance per  feature column, $\\sigma^2_j$ for $j=1,\\ldots,D$. Then, each row of the normalized feature matrix $\\overline{\\mathbf{X}}_{N\\times D}$ is obtained as follows:\n",
    "\n",
    "$$\\overline{\\mathbf{x}}^{(i)}= \\left[\\frac{x_1^{(i)}-\\mu_1}{\\sqrt{\\sigma^2_1}}, ~~ \\frac{x_1^{(i)}-\\mu_2}{\\sqrt{\\sigma^2_2}}, \\ldots, \\frac{x_1^{(D)}-\\mu_1}{\\sqrt{\\sigma^2_D}}\\right]$$\n",
    "\n",
    "**Note this does not affect to the logistic regression solution**, we are simply re-scaling the parameter vector $\\boldsymbol{w}$. Using this scaling, we can now effectively compare the effect that each variable has in the logistic regression solution: **the larger $|w_j|$ is, the more effect the $j$-th feature has in the estimation of the class**.\n",
    "\n",
    "One important aspect is that the test set is normalized **using the train set statistics (mean and variance)**"
   ]
  },
  {
   "cell_type": "code",
   "execution_count": 16,
   "metadata": {
    "id": "AR2kCALJ1tba"
   },
   "outputs": [],
   "source": [
    "means = train_data.mean()\n",
    "stds = train_data.std()"
   ]
  },
  {
   "cell_type": "code",
   "execution_count": 17,
   "metadata": {
    "colab": {
     "base_uri": "https://localhost:8080/"
    },
    "id": "a9l0mOqy1tba",
    "outputId": "cf9c64a0-9f81-4a94-baba-999b82d4d8fc"
   },
   "outputs": [
    {
     "name": "stdout",
     "output_type": "stream",
     "text": [
      "Clump Thickness\n",
      "Uniformity of Cell Size\n",
      "Uniformity of Cell Shape\n",
      "Marginal Adhesion\n",
      "Single Epithelial Cell Size\n",
      "Bland Chromatin\n",
      "Normal Nucleoli\n",
      "Mitoses\n"
     ]
    },
    {
     "name": "stderr",
     "output_type": "stream",
     "text": [
      "C:\\Users\\Pablo\\AppData\\Local\\Temp\\ipykernel_18740\\4163088172.py:3: FutureWarning: Series.__getitem__ treating keys as positions is deprecated. In a future version, integer keys will always be treated as labels (consistent with DataFrame behavior). To access a value by position, use `ser.iloc[pos]`\n",
      "  train_data[column_name] = (train_data[column_name]-means[idx])/(stds[idx])\n",
      "C:\\Users\\Pablo\\AppData\\Local\\Temp\\ipykernel_18740\\4163088172.py:4: FutureWarning: Series.__getitem__ treating keys as positions is deprecated. In a future version, integer keys will always be treated as labels (consistent with DataFrame behavior). To access a value by position, use `ser.iloc[pos]`\n",
      "  test_data[column_name] = (test_data[column_name]-means[idx])/(stds[idx])\n"
     ]
    }
   ],
   "source": [
    "for idx, column_name in enumerate(train_data.columns[:-1]):\n",
    "    print(column_name)\n",
    "    train_data[column_name] = (train_data[column_name]-means[idx])/(stds[idx])\n",
    "    test_data[column_name] = (test_data[column_name]-means[idx])/(stds[idx])"
   ]
  },
  {
   "cell_type": "markdown",
   "metadata": {
    "id": "vAFpsFKG1tba"
   },
   "source": [
    "Lets take a look to the resulting dataframe"
   ]
  },
  {
   "cell_type": "code",
   "execution_count": 18,
   "metadata": {
    "colab": {
     "base_uri": "https://localhost:8080/",
     "height": 376
    },
    "id": "9Uh9iBFk1tbb",
    "outputId": "484e87aa-281d-49b0-fc01-b8659cef2b87"
   },
   "outputs": [
    {
     "data": {
      "text/html": [
       "<div>\n",
       "<style scoped>\n",
       "    .dataframe tbody tr th:only-of-type {\n",
       "        vertical-align: middle;\n",
       "    }\n",
       "\n",
       "    .dataframe tbody tr th {\n",
       "        vertical-align: top;\n",
       "    }\n",
       "\n",
       "    .dataframe thead th {\n",
       "        text-align: right;\n",
       "    }\n",
       "</style>\n",
       "<table border=\"1\" class=\"dataframe\">\n",
       "  <thead>\n",
       "    <tr style=\"text-align: right;\">\n",
       "      <th></th>\n",
       "      <th>Clump Thickness</th>\n",
       "      <th>Uniformity of Cell Size</th>\n",
       "      <th>Uniformity of Cell Shape</th>\n",
       "      <th>Marginal Adhesion</th>\n",
       "      <th>Single Epithelial Cell Size</th>\n",
       "      <th>Bland Chromatin</th>\n",
       "      <th>Normal Nucleoli</th>\n",
       "      <th>Mitoses</th>\n",
       "      <th>Binary Class</th>\n",
       "    </tr>\n",
       "  </thead>\n",
       "  <tbody>\n",
       "    <tr>\n",
       "      <th>285</th>\n",
       "      <td>1.300525</td>\n",
       "      <td>2.285664</td>\n",
       "      <td>2.276496</td>\n",
       "      <td>2.455409</td>\n",
       "      <td>2.286331</td>\n",
       "      <td>2.658239</td>\n",
       "      <td>1.330666</td>\n",
       "      <td>0.867001</td>\n",
       "      <td>1.0</td>\n",
       "    </tr>\n",
       "    <tr>\n",
       "      <th>607</th>\n",
       "      <td>-1.212539</td>\n",
       "      <td>-0.700359</td>\n",
       "      <td>-0.747811</td>\n",
       "      <td>-0.642951</td>\n",
       "      <td>-0.552749</td>\n",
       "      <td>-1.010787</td>\n",
       "      <td>-0.608106</td>\n",
       "      <td>-0.338605</td>\n",
       "      <td>0.0</td>\n",
       "    </tr>\n",
       "    <tr>\n",
       "      <th>587</th>\n",
       "      <td>0.223498</td>\n",
       "      <td>-0.700359</td>\n",
       "      <td>-0.747811</td>\n",
       "      <td>-0.642951</td>\n",
       "      <td>-0.552749</td>\n",
       "      <td>-0.603117</td>\n",
       "      <td>-0.284977</td>\n",
       "      <td>-0.338605</td>\n",
       "      <td>0.0</td>\n",
       "    </tr>\n",
       "    <tr>\n",
       "      <th>458</th>\n",
       "      <td>0.223498</td>\n",
       "      <td>-0.700359</td>\n",
       "      <td>-0.411777</td>\n",
       "      <td>-0.642951</td>\n",
       "      <td>-0.552749</td>\n",
       "      <td>-1.010787</td>\n",
       "      <td>-0.608106</td>\n",
       "      <td>-0.338605</td>\n",
       "      <td>0.0</td>\n",
       "    </tr>\n",
       "    <tr>\n",
       "      <th>431</th>\n",
       "      <td>0.223498</td>\n",
       "      <td>-0.700359</td>\n",
       "      <td>-0.747811</td>\n",
       "      <td>0.045573</td>\n",
       "      <td>0.393611</td>\n",
       "      <td>-0.195448</td>\n",
       "      <td>-0.284977</td>\n",
       "      <td>-0.338605</td>\n",
       "      <td>0.0</td>\n",
       "    </tr>\n",
       "    <tr>\n",
       "      <th>52</th>\n",
       "      <td>2.018543</td>\n",
       "      <td>-0.036799</td>\n",
       "      <td>0.932359</td>\n",
       "      <td>-0.298689</td>\n",
       "      <td>-0.079569</td>\n",
       "      <td>0.212222</td>\n",
       "      <td>2.300052</td>\n",
       "      <td>0.264198</td>\n",
       "      <td>1.0</td>\n",
       "    </tr>\n",
       "    <tr>\n",
       "      <th>560</th>\n",
       "      <td>0.223498</td>\n",
       "      <td>-0.700359</td>\n",
       "      <td>-0.747811</td>\n",
       "      <td>-0.642951</td>\n",
       "      <td>-0.552749</td>\n",
       "      <td>-0.195448</td>\n",
       "      <td>-0.608106</td>\n",
       "      <td>-0.338605</td>\n",
       "      <td>0.0</td>\n",
       "    </tr>\n",
       "    <tr>\n",
       "      <th>445</th>\n",
       "      <td>-0.853530</td>\n",
       "      <td>-0.700359</td>\n",
       "      <td>-0.747811</td>\n",
       "      <td>-0.642951</td>\n",
       "      <td>-0.552749</td>\n",
       "      <td>-1.010787</td>\n",
       "      <td>-0.608106</td>\n",
       "      <td>-0.338605</td>\n",
       "      <td>0.0</td>\n",
       "    </tr>\n",
       "    <tr>\n",
       "      <th>292</th>\n",
       "      <td>1.300525</td>\n",
       "      <td>1.622103</td>\n",
       "      <td>1.604428</td>\n",
       "      <td>-0.642951</td>\n",
       "      <td>-0.552749</td>\n",
       "      <td>1.027561</td>\n",
       "      <td>2.300052</td>\n",
       "      <td>-0.338605</td>\n",
       "      <td>1.0</td>\n",
       "    </tr>\n",
       "    <tr>\n",
       "      <th>579</th>\n",
       "      <td>-1.212539</td>\n",
       "      <td>-0.700359</td>\n",
       "      <td>-0.747811</td>\n",
       "      <td>-0.642951</td>\n",
       "      <td>-0.552749</td>\n",
       "      <td>-0.195448</td>\n",
       "      <td>-0.608106</td>\n",
       "      <td>-0.338605</td>\n",
       "      <td>0.0</td>\n",
       "    </tr>\n",
       "  </tbody>\n",
       "</table>\n",
       "</div>"
      ],
      "text/plain": [
       "     Clump Thickness  Uniformity of Cell Size  Uniformity of Cell Shape  \\\n",
       "285         1.300525                 2.285664                  2.276496   \n",
       "607        -1.212539                -0.700359                 -0.747811   \n",
       "587         0.223498                -0.700359                 -0.747811   \n",
       "458         0.223498                -0.700359                 -0.411777   \n",
       "431         0.223498                -0.700359                 -0.747811   \n",
       "52          2.018543                -0.036799                  0.932359   \n",
       "560         0.223498                -0.700359                 -0.747811   \n",
       "445        -0.853530                -0.700359                 -0.747811   \n",
       "292         1.300525                 1.622103                  1.604428   \n",
       "579        -1.212539                -0.700359                 -0.747811   \n",
       "\n",
       "     Marginal Adhesion  Single Epithelial Cell Size  Bland Chromatin  \\\n",
       "285           2.455409                     2.286331         2.658239   \n",
       "607          -0.642951                    -0.552749        -1.010787   \n",
       "587          -0.642951                    -0.552749        -0.603117   \n",
       "458          -0.642951                    -0.552749        -1.010787   \n",
       "431           0.045573                     0.393611        -0.195448   \n",
       "52           -0.298689                    -0.079569         0.212222   \n",
       "560          -0.642951                    -0.552749        -0.195448   \n",
       "445          -0.642951                    -0.552749        -1.010787   \n",
       "292          -0.642951                    -0.552749         1.027561   \n",
       "579          -0.642951                    -0.552749        -0.195448   \n",
       "\n",
       "     Normal Nucleoli   Mitoses  Binary Class  \n",
       "285         1.330666  0.867001           1.0  \n",
       "607        -0.608106 -0.338605           0.0  \n",
       "587        -0.284977 -0.338605           0.0  \n",
       "458        -0.608106 -0.338605           0.0  \n",
       "431        -0.284977 -0.338605           0.0  \n",
       "52          2.300052  0.264198           1.0  \n",
       "560        -0.608106 -0.338605           0.0  \n",
       "445        -0.608106 -0.338605           0.0  \n",
       "292         2.300052 -0.338605           1.0  \n",
       "579        -0.608106 -0.338605           0.0  "
      ]
     },
     "execution_count": 18,
     "metadata": {},
     "output_type": "execute_result"
    }
   ],
   "source": [
    "train_data.head(10)"
   ]
  },
  {
   "cell_type": "markdown",
   "metadata": {
    "id": "-ccEWlDf1tbb"
   },
   "source": [
    "## Part II. Tensors in Pytorch\n",
    "\n",
    "\n",
    "Note: a big part of the following material is a personal wrap-up of [Facebook's Deep Learning Course in Udacity](https://www.udacity.com/course/deep-learning-pytorch--ud188). So all credit goes for them!!\n",
    "\n",
    "PyTorch in a lot of ways behaves like  Numpy arrays. PyTorch takes these tensors and makes it simple to move them to GPUs for the faster processing needed when training neural networks. It also provides a module that automatically calculates gradients and another module specifically for building neural networks. \n",
    "\n",
    "It turns out neural network computations are just a bunch of linear algebra operations on *tensors*, a generalization of matrices. A vector is a 1-dimensional tensor, a matrix is a 2-dimensional tensor, an array with three indices is a 3-dimensional tensor (RGB color images for example). The fundamental data structure for neural networks are tensors and PyTorch (as well as pretty much every other deep learning framework) is built around tensors.\n"
   ]
  },
  {
   "cell_type": "markdown",
   "metadata": {
    "id": "UtNObOMi1tbb"
   },
   "source": [
    "### Creating and manipulating tensors"
   ]
  },
  {
   "cell_type": "code",
   "execution_count": 19,
   "metadata": {
    "id": "-3Ztd2QR1tbb"
   },
   "outputs": [],
   "source": [
    "# First, import PyTorch\n",
    "import torch"
   ]
  },
  {
   "cell_type": "code",
   "execution_count": 20,
   "metadata": {
    "colab": {
     "base_uri": "https://localhost:8080/",
     "height": 35
    },
    "id": "IXWNqYtY1tbb",
    "outputId": "8d1287d8-eb20-45fa-9f97-b25611e3d3f6"
   },
   "outputs": [
    {
     "data": {
      "text/plain": [
       "'2.2.0+cpu'"
      ]
     },
     "execution_count": 20,
     "metadata": {},
     "output_type": "execute_result"
    }
   ],
   "source": [
    "# To check what torch version you're using\n",
    "\n",
    "torch.__version__"
   ]
  },
  {
   "cell_type": "markdown",
   "metadata": {
    "id": "VypY8KrK1tbc"
   },
   "source": [
    "Lets create a function to manipulate torch tensors. Let's program our own logistic regressor\n",
    "\n",
    "$$f(\\mathbf{x}) = \\frac{1}{1+\\exp-(\\mathbf{w}^T\\mathbf{x}+w_0)}=\\sigma(\\cdot)$$\n",
    "\n",
    "where $\\mathbf{w}$ and $w_0$ (the bias or intercept) are initialized with Pytorch tensors containing random numbers drawn from a i.i.d. Normal Gaussian distribution. Also, to test the function, we will generate data points $\\mathbf{x}$ also as random tensors.\n",
    "\n",
    "#### First we define the sigmoid function $\\sigma(\\cdot)$"
   ]
  },
  {
   "cell_type": "code",
   "execution_count": 21,
   "metadata": {
    "id": "6aUFmlQs1tbc"
   },
   "outputs": [],
   "source": [
    "def sigmoid(x):\n",
    "    \"\"\" Sigmoid activation function \n",
    "    \n",
    "        Arguments\n",
    "        ---------\n",
    "        x: torch.Tensor\n",
    "    \"\"\"\n",
    "    return 1/(1+torch.exp(-x))"
   ]
  },
  {
   "cell_type": "markdown",
   "metadata": {
    "id": "HdXWrweT1tbc"
   },
   "source": [
    "#### Now we generate the parameters $\\mathbf{w},w_0$ and one input vector (feature vector) $\\mathbf{x}$"
   ]
  },
  {
   "cell_type": "code",
   "execution_count": 22,
   "metadata": {
    "id": "IIiJKMJC1tbc"
   },
   "outputs": [],
   "source": [
    "torch.manual_seed(7) # Set the random seed so things are predictable\n",
    "\n",
    "# Features are 5 random normal variables\n",
    "feature_vector = torch.randn((1, 5))\n",
    "# True weights for our data, random normal variables again\n",
    "weights = torch.randn_like(feature_vector)\n",
    "# and a true bias term\n",
    "bias = torch.randn((1, 1))"
   ]
  },
  {
   "cell_type": "markdown",
   "metadata": {
    "id": "c3SZadap1tbd"
   },
   "source": [
    "Above we generated data we can use to get the output of our simple neural network. This is all just random for now, going forward we'll start using normal data. Going through each relevant line:\n",
    "\n",
    "`features = torch.randn((1, 5))` creates a tensor with shape `(1, 5)`, one row and five columns, that contains values randomly distributed according to the normal distribution with a mean of zero and standard deviation of one. \n",
    "\n",
    "`weights = torch.randn_like(features)` creates another tensor with the same shape as `features`, again containing values from a normal distribution.\n",
    "\n",
    "Finally, `bias = torch.randn((1, 1))` creates a single value from a normal distribution.\n",
    "\n",
    "PyTorch tensors can be added, multiplied, subtracted, etc, just like Numpy arrays. In general, you'll use PyTorch tensors pretty much the same way you'd use Numpy arrays.\n",
    "\n",
    "Just like in Numpy, you can check the values and dimensions of a tensor:\n"
   ]
  },
  {
   "cell_type": "code",
   "execution_count": 23,
   "metadata": {
    "colab": {
     "base_uri": "https://localhost:8080/"
    },
    "id": "_XUHQ_bu1tbd",
    "outputId": "3866c88c-3c84-43b5-9493-367660587d4e"
   },
   "outputs": [
    {
     "name": "stdout",
     "output_type": "stream",
     "text": [
      "tensor([[-0.1468,  0.7861,  0.9468, -1.1143,  1.6908]])\n",
      "The dimensions are 1, 5\n"
     ]
    }
   ],
   "source": [
    "print(feature_vector)\n",
    "m, n = feature_vector.shape\n",
    "print(\"The dimensions are {0}, {1}\".format(m, n))"
   ]
  },
  {
   "cell_type": "markdown",
   "metadata": {
    "id": "l5SX8Svx1tbd"
   },
   "source": [
    "> **Exercise**: Using the `sigmoid()` function, calculate the output a binary logistic regressor with input feature vector `feature_vector`, weights `weights`, and bias `bias`. You can use `*` for Tensor elemenwise product and the function  [`torch.sum()`](https://pytorch.org/docs/stable/torch.html#torch.sum) to sum all the elements of a tensor in a certain dimension. "
   ]
  },
  {
   "cell_type": "code",
   "execution_count": 24,
   "metadata": {
    "colab": {
     "base_uri": "https://localhost:8080/"
    },
    "id": "9HKse1wT1tbd",
    "outputId": "41cc5173-59e9-464e-e17e-d5dec607440d"
   },
   "outputs": [
    {
     "name": "stdout",
     "output_type": "stream",
     "text": [
      "The ouput of the LR is 0.15950655937194824\n"
     ]
    }
   ],
   "source": [
    "### YOUR CODE HERE\n",
    "\n",
    "y = sigmoid(torch.sum(feature_vector * weights) + bias)\n",
    "\n",
    "print(\"The ouput of the LR is {0}\".format(y[0][0])) "
   ]
  },
  {
   "cell_type": "markdown",
   "metadata": {
    "id": "XnbXQDAR1tbd"
   },
   "source": [
    "#### Do the same but using matrix multiplication with `torch.mm()`\n",
    "\n",
    "\n",
    "You can do the multiplication and sum in the same operation using a matrix multiplication. In general, you'll want to use matrix multiplications since they are more efficient and accelerated using modern libraries and high-performance computing on GPUs.  For this we can use [`torch.mm()`](https://pytorch.org/docs/stable/torch.html#torch.mm) or [`torch.matmul()`](https://pytorch.org/docs/stable/torch.html#torch.matmul) which is somewhat more complicated and supports broadcasting.\n",
    "\n",
    "First, check the dimension of `feature_vector` and `weights` using the method `.shape`"
   ]
  },
  {
   "cell_type": "code",
   "execution_count": 25,
   "metadata": {
    "colab": {
     "base_uri": "https://localhost:8080/"
    },
    "id": "yMvQr6Wh1tbe",
    "outputId": "91c81558-d153-489a-dfa9-3b387ee15d64"
   },
   "outputs": [
    {
     "name": "stdout",
     "output_type": "stream",
     "text": [
      "torch.Size([1, 5])\n",
      "torch.Size([1, 5])\n"
     ]
    }
   ],
   "source": [
    "print(feature_vector.shape)\n",
    "print(weights.shape)"
   ]
  },
  {
   "cell_type": "markdown",
   "metadata": {
    "id": "I-lEJNxs1tbe"
   },
   "source": [
    "See what comes if you try to directly multiply both tensors"
   ]
  },
  {
   "cell_type": "code",
   "execution_count": 26,
   "metadata": {
    "colab": {
     "base_uri": "https://localhost:8080/",
     "height": 164
    },
    "id": "BWuE8IeD1tbe",
    "outputId": "929c87f1-872b-401a-c19a-96f25c6e7a55"
   },
   "outputs": [
    {
     "ename": "RuntimeError",
     "evalue": "mat1 and mat2 shapes cannot be multiplied (1x5 and 1x5)",
     "output_type": "error",
     "traceback": [
      "\u001b[1;31m---------------------------------------------------------------------------\u001b[0m",
      "\u001b[1;31mRuntimeError\u001b[0m                              Traceback (most recent call last)",
      "Cell \u001b[1;32mIn[26], line 1\u001b[0m\n\u001b[1;32m----> 1\u001b[0m \u001b[43mtorch\u001b[49m\u001b[38;5;241;43m.\u001b[39;49m\u001b[43mmm\u001b[49m\u001b[43m(\u001b[49m\u001b[43mfeature_vector\u001b[49m\u001b[43m,\u001b[49m\u001b[43m \u001b[49m\u001b[43mweights\u001b[49m\u001b[43m)\u001b[49m\n",
      "\u001b[1;31mRuntimeError\u001b[0m: mat1 and mat2 shapes cannot be multiplied (1x5 and 1x5)"
     ]
    }
   ],
   "source": [
    "torch.mm(feature_vector, weights)"
   ]
  },
  {
   "cell_type": "markdown",
   "metadata": {
    "id": "jMJTC6yj1tbe"
   },
   "source": [
    "What's happening here is our tensors aren't the correct shapes to perform a matrix multiplication. There are a few options here: [`weights.reshape()`](https://pytorch.org/docs/stable/tensors.html#torch.Tensor.reshape), and [`weights.view()`](https://pytorch.org/docs/stable/tensors.html#torch.Tensor.view).\n",
    "\n",
    "* `weights.reshape(a, b)` will return a new tensor with the same data as `weights` with size `(a, b)` sometimes, and sometimes a clone, as in it copies the data to another part of memory.\n",
    "* `weights.view(a, b)` will return a new tensor with the same data as `weights` with size `(a, b)`.\n",
    "\n",
    "Any of the two methods will work for this. So, now we can reshape `weights` to have five rows and one column with something like `weights.view(5, 1)`.\n",
    "\n",
    "\n",
    "> **Exercise**: Calculate the output of the logistic regressor using matrix multiplication."
   ]
  },
  {
   "cell_type": "code",
   "execution_count": 27,
   "metadata": {
    "id": "lFzpOIuF1tbe"
   },
   "outputs": [],
   "source": [
    "# YOUR CODE HERE\n",
    "y = sigmoid(torch.mm(feature_vector, weights.view(5,1)) + bias)"
   ]
  },
  {
   "cell_type": "code",
   "execution_count": 28,
   "metadata": {
    "colab": {
     "base_uri": "https://localhost:8080/"
    },
    "id": "VKqJ_XLz1tbe",
    "outputId": "ebf2ae3d-3b5d-498e-ad4a-a11e497360c0"
   },
   "outputs": [
    {
     "name": "stdout",
     "output_type": "stream",
     "text": [
      "The ouput of the LR is 0.15950657427310944\n"
     ]
    }
   ],
   "source": [
    "print(\"The ouput of the LR is {0}\".format(y[0][0])) "
   ]
  },
  {
   "cell_type": "markdown",
   "metadata": {
    "id": "d5D8jyJC1tbf"
   },
   "source": [
    "### Numpy to Torch and back\n",
    "\n",
    "PyTorch has a feature for converting between Numpy arrays and Torch tensors. To create a tensor from a Numpy array, use `torch.from_numpy()`. To convert a tensor to a Numpy array, use the `.numpy()` method."
   ]
  },
  {
   "cell_type": "code",
   "execution_count": 29,
   "metadata": {
    "colab": {
     "base_uri": "https://localhost:8080/"
    },
    "id": "TBiy19uw1tbf",
    "outputId": "4c639f2a-be28-487e-a804-23c0f6af3597"
   },
   "outputs": [
    {
     "data": {
      "text/plain": [
       "array([[0.29507589, 0.18333855, 0.01973246],\n",
       "       [0.74332123, 0.0382934 , 0.43367967],\n",
       "       [0.83208476, 0.01345856, 0.50933539],\n",
       "       [0.4795487 , 0.02965494, 0.01142853]])"
      ]
     },
     "execution_count": 29,
     "metadata": {},
     "output_type": "execute_result"
    }
   ],
   "source": [
    "a = np.random.rand(4,3)\n",
    "a"
   ]
  },
  {
   "cell_type": "code",
   "execution_count": 30,
   "metadata": {
    "colab": {
     "base_uri": "https://localhost:8080/"
    },
    "id": "KPIxuQO51tbf",
    "outputId": "c8c58a26-73aa-427c-922c-1253c32ec4b0"
   },
   "outputs": [
    {
     "data": {
      "text/plain": [
       "tensor([[0.2951, 0.1833, 0.0197],\n",
       "        [0.7433, 0.0383, 0.4337],\n",
       "        [0.8321, 0.0135, 0.5093],\n",
       "        [0.4795, 0.0297, 0.0114]], dtype=torch.float64)"
      ]
     },
     "execution_count": 30,
     "metadata": {},
     "output_type": "execute_result"
    }
   ],
   "source": [
    "b = torch.from_numpy(a)\n",
    "b"
   ]
  },
  {
   "cell_type": "code",
   "execution_count": 31,
   "metadata": {
    "colab": {
     "base_uri": "https://localhost:8080/"
    },
    "id": "RlukPVlK1tbf",
    "outputId": "82cbddeb-52bc-4e7a-ba12-90493c40373f"
   },
   "outputs": [
    {
     "data": {
      "text/plain": [
       "array([[0.29507589, 0.18333855, 0.01973246],\n",
       "       [0.74332123, 0.0382934 , 0.43367967],\n",
       "       [0.83208476, 0.01345856, 0.50933539],\n",
       "       [0.4795487 , 0.02965494, 0.01142853]])"
      ]
     },
     "execution_count": 31,
     "metadata": {},
     "output_type": "execute_result"
    }
   ],
   "source": [
    "b.numpy()"
   ]
  },
  {
   "cell_type": "markdown",
   "metadata": {
    "id": "qf-8fSUT1tbf"
   },
   "source": [
    "The **memory is shared between the Numpy array and Torch tensor**, so if you change the values in-place of one object, the other will change as well."
   ]
  },
  {
   "cell_type": "code",
   "execution_count": 32,
   "metadata": {
    "colab": {
     "base_uri": "https://localhost:8080/"
    },
    "id": "uDPNlGd41tbf",
    "outputId": "8a0a87c7-71b0-4715-c9a5-7cd465fff929"
   },
   "outputs": [
    {
     "data": {
      "text/plain": [
       "tensor([[0.5902, 0.3667, 0.0395],\n",
       "        [1.4866, 0.0766, 0.8674],\n",
       "        [1.6642, 0.0269, 1.0187],\n",
       "        [0.9591, 0.0593, 0.0229]], dtype=torch.float64)"
      ]
     },
     "execution_count": 32,
     "metadata": {},
     "output_type": "execute_result"
    }
   ],
   "source": [
    "# Multiply PyTorch Tensor by 2, in place (Note the _)\n",
    "b.mul_(2)"
   ]
  },
  {
   "cell_type": "code",
   "execution_count": 33,
   "metadata": {
    "colab": {
     "base_uri": "https://localhost:8080/"
    },
    "id": "iHVbPer51tbg",
    "outputId": "36d7289d-e7e6-4768-abc1-155576ee93d3"
   },
   "outputs": [
    {
     "data": {
      "text/plain": [
       "array([[0.59015179, 0.3666771 , 0.03946492],\n",
       "       [1.48664246, 0.07658681, 0.86735934],\n",
       "       [1.66416952, 0.02691712, 1.01867078],\n",
       "       [0.9590974 , 0.05930988, 0.02285705]])"
      ]
     },
     "execution_count": 33,
     "metadata": {},
     "output_type": "execute_result"
    }
   ],
   "source": [
    "# Numpy array matches new values from Tensor\n",
    "a"
   ]
  },
  {
   "cell_type": "markdown",
   "metadata": {
    "id": "lfbwgx3t1tbg"
   },
   "source": [
    "## Part III. Define a logistic regression and the loss function in Pytorch\n",
    "\n",
    "### The `nn.()` module\n",
    "\n",
    "PyTorch provides a module `nn` that makes building neural networks much simpler. \n"
   ]
  },
  {
   "cell_type": "code",
   "execution_count": 34,
   "metadata": {
    "id": "3umoBVna1tbg"
   },
   "outputs": [],
   "source": [
    "from torch import nn"
   ]
  },
  {
   "cell_type": "markdown",
   "metadata": {
    "id": "wVV26Lwq1tbg"
   },
   "source": [
    "You should get use to inspect [Pytorch official documentation](https://pytorch.org/docs/stable/index.html) to understand the structure and usability of methods and classes required to work with Pytorch and train neural networks.\n",
    "\n",
    "With the following code I show you how to create a Logistic Regression network whose parameters will be later on optimized for our data."
   ]
  },
  {
   "cell_type": "code",
   "execution_count": 35,
   "metadata": {
    "id": "lwm7G7zH1tbg"
   },
   "outputs": [],
   "source": [
    "class LR(nn.Module):\n",
    "    def __init__(self, dimx):\n",
    "        super().__init__()\n",
    "        \n",
    "        self.weights = nn.Parameter(torch.randn(dimx, 1), requires_grad = True)\n",
    "        \n",
    "        self.bias = nn.Parameter(torch.randn(1, 1), requires_grad = True)\n",
    "        \n",
    "        # Define sigmoid activation and softmax output \n",
    "        self.sigmoid = nn.Sigmoid()\n",
    "        \n",
    "    def forward(self, x):\n",
    "        # Pass the input tensor through each of our operations\n",
    "        x = self.sigmoid(torch.matmul(x, self.weights)+self.bias)\n",
    "        return x"
   ]
  },
  {
   "cell_type": "markdown",
   "metadata": {
    "id": "Eee-3IZd1tbg"
   },
   "source": [
    "Let's go through this step by step.\n",
    "\n",
    "```python\n",
    "class Network(nn.Module):\n",
    "```\n",
    "\n",
    "Here we're inheriting from `nn.Module`. Combined with `super().__init__()` this creates a class that tracks the architecture and provides a lot of useful methods and attributes. It is mandatory to inherit from `nn.Module` when you're creating a class for your neural network. The name of the class itself can be anything.\n",
    "\n",
    "```python\n",
    "self.weights = nn.Parameter(torch.randn(dimx,1),requires_grad = True)\n",
    "self.bias = nn.Parameter(torch.randn(1,1),requires_grad = True)\n",
    "```\n",
    "\n",
    "The Parameter class defines a kind of Tensor that is to be considered a module parameter. Namely, we will optimize the values of these tensors. Note that we define a **random initialization** with `torch.randn()`.\n",
    "\n",
    "```python\n",
    "def forward(self, x):\n",
    "```\n",
    "\n",
    "PyTorch networks created with `nn.Module` must have a `forward` method defined. It takes in a tensor `x` and passes it through the operations you defined in the `__init__` method.\n"
   ]
  },
  {
   "cell_type": "markdown",
   "metadata": {
    "id": "6Yzj2KS21tbg"
   },
   "source": [
    "### A more compact definition of the network using pre-defined layers\n",
    "\n",
    "The `.nn` package provides us with predefined layers and operators so that the implementation of our networks is indeed much easier (and compact). The following code performs exactly as the class `LR` defined above."
   ]
  },
  {
   "cell_type": "code",
   "execution_count": 36,
   "metadata": {
    "id": "65mAExAh1tbh"
   },
   "outputs": [],
   "source": [
    "class LR_compact(nn.Module):\n",
    "    def __init__(self, dimx):\n",
    "        super().__init__()\n",
    "        \n",
    "        self.output = nn.Linear(dimx, 1)\n",
    "    \n",
    "        # Define sigmoid activation and softmax output \n",
    "        self.sigmoid = nn.Sigmoid()\n",
    "        \n",
    "    def forward(self, x):\n",
    "        # Pass the input tensor through each of our operations\n",
    "        x = self.output(x)\n",
    "        x = self.sigmoid(x)\n",
    "        return x"
   ]
  },
  {
   "cell_type": "markdown",
   "metadata": {
    "id": "XmOMfSvM1tbh"
   },
   "source": [
    "When we define a logistic regressor by instantiating the class `LR_compact`, we can access the weights and the bias as `self.output.weight` and `self.output.bias`"
   ]
  },
  {
   "cell_type": "code",
   "execution_count": 37,
   "metadata": {
    "colab": {
     "base_uri": "https://localhost:8080/"
    },
    "id": "B-1okiby1tbh",
    "outputId": "18346ea8-ea54-4917-9d7c-8f81cf1611cf"
   },
   "outputs": [
    {
     "data": {
      "text/plain": [
       "Parameter containing:\n",
       "tensor([[0.0187, 0.0834, 0.3396, 0.1150, 0.2373]], requires_grad=True)"
      ]
     },
     "execution_count": 37,
     "metadata": {},
     "output_type": "execute_result"
    }
   ],
   "source": [
    "my_network = LR_compact(5)\n",
    "my_network.output.weight"
   ]
  },
  {
   "cell_type": "markdown",
   "metadata": {
    "id": "YLfX1RRR1tbh"
   },
   "source": [
    "### Evaluate the logistic regressor using our data\n",
    "\n",
    "Lets go back to the database we just preprocessed above. Consider now the first 10 datapoints in the training set."
   ]
  },
  {
   "cell_type": "code",
   "execution_count": 38,
   "metadata": {
    "id": "prY49umh1tbh"
   },
   "outputs": [],
   "source": [
    "x = np.array(train_data[:10]).astype(np.float32) # train_data is a Dataframe, can easily be converted to a numpy array\n",
    "y = x[:, -1]    # Last Column is the class\n",
    "x = x[:, :-1]   # We remove the last column from x"
   ]
  },
  {
   "cell_type": "code",
   "execution_count": 39,
   "metadata": {
    "colab": {
     "base_uri": "https://localhost:8080/"
    },
    "id": "HOpnJ0Ix1tbh",
    "outputId": "ee5c0867-2620-4ae9-dbbf-8753ea7c97ee"
   },
   "outputs": [
    {
     "name": "stdout",
     "output_type": "stream",
     "text": [
      "The dimensions of x are (10,8)\n",
      "\n",
      "[[ 1.300525    2.2856638   2.2764957   2.4554093   2.2863305   2.6582384\n",
      "   1.3306657   0.8670005 ]\n",
      " [-1.2125387  -0.7003592  -0.7478111  -0.6429514  -0.55274856 -1.010787\n",
      "  -0.60810614 -0.3386047 ]\n",
      " [ 0.22349761 -0.7003592  -0.7478111  -0.6429514  -0.55274856 -0.60311747\n",
      "  -0.2849775  -0.3386047 ]\n",
      " [ 0.22349761 -0.7003592  -0.41177702 -0.6429514  -0.55274856 -1.010787\n",
      "  -0.60810614 -0.3386047 ]\n",
      " [ 0.22349761 -0.7003592  -0.7478111   0.04557319  0.39361116 -0.195448\n",
      "  -0.2849775  -0.3386047 ]\n",
      " [ 2.018543   -0.03679854  0.93235934 -0.29868913 -0.07956871  0.21222152\n",
      "   2.3000517   0.26419792]\n",
      " [ 0.22349761 -0.7003592  -0.7478111  -0.6429514  -0.55274856 -0.195448\n",
      "  -0.60810614 -0.3386047 ]\n",
      " [-0.8535297  -0.7003592  -0.7478111  -0.6429514  -0.55274856 -1.010787\n",
      "  -0.60810614 -0.3386047 ]\n",
      " [ 1.300525    1.6221032   1.6044276  -0.6429514  -0.55274856  1.0275605\n",
      "   2.3000517  -0.3386047 ]\n",
      " [-1.2125387  -0.7003592  -0.7478111  -0.6429514  -0.55274856 -0.195448\n",
      "  -0.60810614 -0.3386047 ]]\n"
     ]
    }
   ],
   "source": [
    "print(\"The dimensions of x are ({0},{1})\\n\".format(x.shape[0], x.shape[1]))\n",
    "\n",
    "print(x)"
   ]
  },
  {
   "cell_type": "markdown",
   "metadata": {
    "id": "EAF7HyRD1tbi"
   },
   "source": [
    "> **Exercise:** Instantiate the class `LR_compact` with the dimension of every data point in `x`"
   ]
  },
  {
   "cell_type": "code",
   "execution_count": 40,
   "metadata": {
    "id": "r8qlBWgn1tbi"
   },
   "outputs": [],
   "source": [
    "## YOUR CODE HERE\n",
    "\n",
    "my_classifier = LR_compact(x.shape[1])"
   ]
  },
  {
   "cell_type": "markdown",
   "metadata": {
    "id": "vlKlNgYM1tbi"
   },
   "source": [
    "> **Exercise:** Print the current parameters of the classifier (weight vector and bias)"
   ]
  },
  {
   "cell_type": "code",
   "execution_count": 41,
   "metadata": {
    "colab": {
     "base_uri": "https://localhost:8080/"
    },
    "id": "sbv6lsFu1tbi",
    "outputId": "86e4cb04-dac6-4d04-958d-c8b78d7aa41d"
   },
   "outputs": [
    {
     "name": "stdout",
     "output_type": "stream",
     "text": [
      "Parameters of the LR classifier\n",
      "Parameter containing:\n",
      "tensor([[ 0.2517,  0.1217,  0.0896,  0.0488,  0.1723,  0.3247, -0.0787, -0.1970]],\n",
      "       requires_grad=True)\n",
      "Parameter containing:\n",
      "tensor([-0.0890], requires_grad=True)\n"
     ]
    }
   ],
   "source": [
    "## YOUR CODE HERE\n",
    "\n",
    "print(\"Parameters of the LR classifier\")\n",
    "print(my_classifier.output.weight)\n",
    "print(my_classifier.output.bias)"
   ]
  },
  {
   "cell_type": "markdown",
   "metadata": {
    "id": "QlX0_SGJ1tbi"
   },
   "source": [
    "To evaluate the logistic regressor output for the data in `x`, we make use of the class `forward` method. Do not forget to feed the function with a **torch tensor**."
   ]
  },
  {
   "cell_type": "code",
   "execution_count": 42,
   "metadata": {
    "id": "FISoEpYT1tbi"
   },
   "outputs": [],
   "source": [
    "output = my_classifier.forward(torch.tensor(x))"
   ]
  },
  {
   "cell_type": "code",
   "execution_count": 43,
   "metadata": {
    "colab": {
     "base_uri": "https://localhost:8080/"
    },
    "id": "Dgi6E_DA1tbi",
    "outputId": "0f8264e7-9a3c-4f9f-c62b-2e1633dea860",
    "scrolled": false
   },
   "outputs": [
    {
     "name": "stdout",
     "output_type": "stream",
     "text": [
      "tensor([[0.8608],\n",
      "        [0.2918],\n",
      "        [0.3969],\n",
      "        [0.3787],\n",
      "        [0.4777],\n",
      "        [0.5758],\n",
      "        [0.4352],\n",
      "        [0.3108],\n",
      "        [0.6620],\n",
      "        [0.3493]], grad_fn=<SigmoidBackward0>)\n"
     ]
    }
   ],
   "source": [
    "print(output)"
   ]
  },
  {
   "cell_type": "markdown",
   "metadata": {
    "id": "uVB4qcGl1tbj"
   },
   "source": [
    "Above we can see the operation that created `output`, a sigmoid operation `SigmoidBackward`. The autograd module keeps track of **all operations that affect Parameter tensors** and use such information to calculate the gradient for each one. In this way, it's able to calculate the gradients for a chain of operations, with respect to any one tensor. \n",
    "\n",
    "### Evaluating the binary cross entropy function using `nn.BCE()`\n",
    "\n",
    "Let's reduce the tensor `y` to a scalar value, the binary cross entropy. We will use the class `nn.BCE()`. See how to use the function in the [official documentation](https://pytorch.org/docs/stable/nn.html)."
   ]
  },
  {
   "cell_type": "code",
   "execution_count": 44,
   "metadata": {
    "id": "DeSrAw0l1tbj"
   },
   "outputs": [],
   "source": [
    "bce = nn.BCELoss()"
   ]
  },
  {
   "cell_type": "code",
   "execution_count": 45,
   "metadata": {
    "colab": {
     "base_uri": "https://localhost:8080/"
    },
    "id": "IVE2O5vh1tbj",
    "outputId": "b5c8efc5-9615-4978-f909-214c6cc073e0"
   },
   "outputs": [
    {
     "name": "stdout",
     "output_type": "stream",
     "text": [
      "tensor(0.4464, grad_fn=<BinaryCrossEntropyBackward0>)\n"
     ]
    }
   ],
   "source": [
    "loss = bce(output, torch.tensor(y).view(output.shape[0], 1))\n",
    "\n",
    "print(loss)"
   ]
  },
  {
   "cell_type": "markdown",
   "metadata": {
    "id": "ds9tMUNW1tbj"
   },
   "source": [
    "Above we can see the operation that created `loss`, a binary cross entropy `BinaryCrossEntropyBackward`.\n",
    "\n",
    "\n",
    "Now that we know how to calculate a loss, Torch provides a module, `autograd`, for automatically calculating the gradients of the loss w.r.t. the tensors. Autograd works by keeping track of operations performed on tensors, then going backwards through those operations, calculating gradients along the way.\n",
    "To make sure PyTorch keeps track of operations on a tensor and calculates the gradients, you need to set `requires_grad = True` on a tensor. You can do this at creation with the `requires_grad` keyword, or at any time with `x.requires_grad_(True)`. By default, all tensors created by instantiating the class `nn.Parameter` have `requires_grad = True`.\n",
    "\n",
    "> **Exercise**: Check that both the weights and the bias of the object have this flag set to `True`"
   ]
  },
  {
   "cell_type": "code",
   "execution_count": 46,
   "metadata": {
    "colab": {
     "base_uri": "https://localhost:8080/"
    },
    "id": "R8a1y4t41tbj",
    "outputId": "a20d5bdf-bec1-4109-df4c-b03e58b78bdf"
   },
   "outputs": [
    {
     "name": "stdout",
     "output_type": "stream",
     "text": [
      "True\n",
      "True\n"
     ]
    }
   ],
   "source": [
    "#YOUR CODE HERE \n",
    "print(my_classifier.output.weight.requires_grad)\n",
    "print(my_classifier.output.bias.requires_grad)"
   ]
  },
  {
   "cell_type": "markdown",
   "metadata": {
    "id": "VaxzRSu41tbk"
   },
   "source": [
    "You can turn off gradients for a block of code with the `torch.no_grad()` content:\n",
    "```python\n",
    "x = torch.zeros(1, requires_grad=True)\n",
    ">>> with torch.no_grad():\n",
    "...     y = x * 2\n",
    ">>> y.requires_grad\n",
    "False\n",
    "```\n",
    "\n",
    "Also, you can turn on or off gradients altogether with `torch.set_grad_enabled(True|False)`. Turning off gradients is recommended for instance when you are just evaluating you network, i.e., when training is finished and only parameter evaluation is required.\n"
   ]
  },
  {
   "cell_type": "markdown",
   "metadata": {
    "id": "WzbuTNZg1tbk"
   },
   "source": [
    "### The `.backward()` operator\n",
    "\n",
    "\n",
    "The gradients are computed with respect to some variable `z` with `z.backward()`. This does a backward pass through the operations that created `z`. This means that when we calculate the loss and call `loss.backward()`, the gradients of the loss function w.r.t. the parameters are calculated. These gradients are used to update the weights with gradient descent.\n",
    "\n",
    "After calling  `loss.backward()` the gradient of `loss` w.r.t. to any tensor `x` can be accessed as `x.grad`\n",
    "\n",
    "\n",
    "> **Exercise**: Print the gradient of the loss function w.r.t. the model parameters for the `LR` object (or the `LR_compact`) before and after running `loss.backward()`."
   ]
  },
  {
   "cell_type": "code",
   "execution_count": null,
   "metadata": {
    "colab": {
     "base_uri": "https://localhost:8080/"
    },
    "id": "eZ4AtI861tbk",
    "outputId": "a7654ea0-3db9-48d5-fdd3-a8e3719664bc"
   },
   "outputs": [],
   "source": [
    "#YOUR CODE HERE\n",
    "\n",
    "print(my_classifier.output.weight.grad)\n",
    "\n",
    "loss.backward()\n",
    "\n",
    "print(my_classifier.output.weight.grad)"
   ]
  },
  {
   "cell_type": "markdown",
   "metadata": {
    "id": "4q7zzGFt1tbk"
   },
   "source": [
    "> **Exercise**: Complete the following code, in which given the tensor $u$ (of size $10\\times1$), you have to evaluate the gradient of $y=u^T~u$ w.r.t. every component of $u$. Does it coincide with the analytical solution?"
   ]
  },
  {
   "cell_type": "code",
   "execution_count": null,
   "metadata": {
    "colab": {
     "base_uri": "https://localhost:8080/",
     "height": 265
    },
    "id": "4TLLZDmJ1tbk",
    "outputId": "cd75c903-0e20-467c-cac9-8cadf621e128"
   },
   "outputs": [],
   "source": [
    "u = torch.randn(10, 1, requires_grad=True)\n",
    "\n",
    "#YOUR CODE HERE (2 lines of code)\n",
    "y = torch.matmul(u.view(1, 10), u)\n",
    "y.backward()\n",
    "\n",
    "# Turn off gradients for validation, saves memory and computations\n",
    "with torch.no_grad():\n",
    "    plt.stem(u.grad.numpy(), label='Autograd', use_line_collection=True)\n",
    "    plt.plot(2*u.detach().numpy(), '-g', label='$2x$')\n",
    "    plt.grid()\n",
    "    plt.legend()"
   ]
  },
  {
   "cell_type": "markdown",
   "metadata": {
    "id": "UFUf5-dr1tbk"
   },
   "source": [
    "`.detach()` method constructs a new view on a tensor which is declared not to need gradients. You can see a nice example in this [link](http://www.bnikolic.co.uk/blog/pytorch-detach.html). Typically, we will use detach to export values to numpy to perform model evaluation. In Pytorch, you cannot call the `.numpy()` operators in Tensor that has `require_grad=True`.\n",
    "\n",
    "An important aspects to implement Gradient Descent Loops is that if call again the `.backward()` operator, then **gradients are accumulated** in the variable `x.grad`. \n",
    "\n",
    "If we recompute `y`, we can check that gradients are accumulated by calling again `y.backward()`   "
   ]
  },
  {
   "cell_type": "code",
   "execution_count": null,
   "metadata": {
    "colab": {
     "base_uri": "https://localhost:8080/",
     "height": 282
    },
    "id": "78N_6J6E1tbk",
    "outputId": "1d194afa-7852-4cfc-a263-29fa6fe5c92b"
   },
   "outputs": [],
   "source": [
    "y = torch.matmul(u.view(1, 10), u)\n",
    "y.backward()\n",
    "\n",
    "plt.stem(u.grad.numpy(), label='Autograd', use_line_collection=True)\n",
    "plt.plot(2*u.detach().numpy(),'-g',label='$2x$')\n",
    "plt.plot(4*u.detach().numpy(),'-b',label='$4x$')\n",
    "plt.grid()\n",
    "plt.legend()"
   ]
  },
  {
   "cell_type": "markdown",
   "metadata": {
    "id": "9gsZF4ky1tbl"
   },
   "source": [
    "To **reset gradients**, Pytorch optimizers provide us with the appropiate method."
   ]
  },
  {
   "cell_type": "markdown",
   "metadata": {
    "id": "ylpmc5cR1tbl"
   },
   "source": [
    "## Part IV. Train the logistic regressor with the complete dataset\n",
    "\n",
    "When we create a network with PyTorch, all of the parameters are initialized with `requires_grad = True`. This means that when we calculate the loss and call `loss.backward()`, the gradients for the parameters are calculated. These gradients are used to update the weights with gradient descent. Below you can see an example of calculating the gradients using a backward pass."
   ]
  },
  {
   "cell_type": "code",
   "execution_count": null,
   "metadata": {
    "id": "0rXzPIRo1tbl"
   },
   "outputs": [],
   "source": [
    "# We use all data points  \n",
    "\n",
    "x = np.array(train_data).astype(np.float32)\n",
    "# Last Column is the class\n",
    "y = x[:, -1]  \n",
    "x = x[:, :-1]"
   ]
  },
  {
   "cell_type": "code",
   "execution_count": null,
   "metadata": {
    "colab": {
     "base_uri": "https://localhost:8080/"
    },
    "id": "WRyAogGQ1tbl",
    "outputId": "dd4c103d-5975-4ada-b3be-dee1f6aae2ad"
   },
   "outputs": [],
   "source": [
    "output = my_classifier.forward(torch.tensor(x))\n",
    "\n",
    "loss = bce(output, torch.tensor(y).view(output.shape[0],1))\n",
    "\n",
    "loss.backward()\n",
    "\n",
    "print(my_classifier.output.weight.grad.shape)"
   ]
  },
  {
   "cell_type": "markdown",
   "metadata": {
    "id": "lP1PxxM_1tbl"
   },
   "source": [
    "### Defining an optimizer\n",
    "\n",
    "There's one last piece we need to start training, an optimizer that we'll use to update the weights with the gradients. We get these from PyTorch's [`optim` package](https://pytorch.org/docs/stable/optim.html). For example we can use stochastic gradient descent with `optim.SGD`. You can see how to define an optimizer below.\n",
    "\n",
    "With the following code, we can define the optimizer:\n"
   ]
  },
  {
   "cell_type": "code",
   "execution_count": null,
   "metadata": {
    "id": "0_iOGGXr1tbm"
   },
   "outputs": [],
   "source": [
    "from torch import optim\n",
    "\n",
    "# Optimizers require the parameters to optimize and a learning rate\n",
    "optimizer = optim.SGD(my_classifier.parameters(), lr=0.01)"
   ]
  },
  {
   "cell_type": "markdown",
   "metadata": {
    "id": "B4G-QeWW1tbm"
   },
   "source": [
    "To perform a SGD iteration, we simply call `optmizer.step()`\n",
    "\n",
    "\n",
    "By the way, `my_classifier.parameters()` returns a [generator object](https://realpython.com/introduction-to-python-generators/). Namely, a list with all the parameters that you read one by one or iterate through a for loop."
   ]
  },
  {
   "cell_type": "code",
   "execution_count": null,
   "metadata": {
    "colab": {
     "base_uri": "https://localhost:8080/"
    },
    "id": "b6xthwHV1tbm",
    "outputId": "4d1b4c56-a5da-4946-e30c-3aed74b91129"
   },
   "outputs": [],
   "source": [
    "params = my_classifier.parameters()\n",
    "\n",
    "print(type(params))\n",
    "# We print the first set of parameters (weight vector)\n",
    "print(next(params))\n",
    "# We print the second set of parameters (the bias)\n",
    "print(next(params))"
   ]
  },
  {
   "cell_type": "markdown",
   "metadata": {
    "id": "yjJSpWOM1tbm"
   },
   "source": [
    "If we call again the method `next()` over params, Python will yield a `StopIteration` error:"
   ]
  },
  {
   "cell_type": "code",
   "execution_count": null,
   "metadata": {
    "colab": {
     "base_uri": "https://localhost:8080/",
     "height": 164
    },
    "id": "xd-enbl81tbm",
    "outputId": "781d9a9a-a083-4497-a3af-ea825fbbf8dc"
   },
   "outputs": [],
   "source": [
    "print(next(params))"
   ]
  },
  {
   "cell_type": "markdown",
   "metadata": {
    "id": "YS_FQvrJ1tbn"
   },
   "source": [
    "## Creating a class with both the network and a training method\n",
    "\n",
    "Object Oriented Programming (OOP) in Python is a versatil and convenient method to implement our own software and create reusable sofware. Indeed, along this whole notebook, we have been using classes all the time.\n",
    "\n",
    "[Here](https://www.programiz.com/python-programming/object-oriented-programming) you can find a short introduction to OOP in Python.\n",
    "\n",
    "With the following code, we will define a class that incorporates the definition of the logistic regression network and **a method to train the parameters**. Go carefully through the code and try to understand it line by line."
   ]
  },
  {
   "cell_type": "code",
   "execution_count": null,
   "metadata": {
    "id": "bdW9tHDQ1tbn"
   },
   "outputs": [],
   "source": [
    "''' This class inherits from the LR_compact class. So it has the same atributes\n",
    "and methods, and some others that we will add. \n",
    "'''\n",
    "class LR_extended(LR_compact):\n",
    "    \n",
    "    def __init__(self, dimx, sgd_iterations=1000, lr=0.001, print_every=200):\n",
    "        \n",
    "        super().__init__(dimx)  #To initialize LR_compact!\n",
    "        \n",
    "        self.lr = lr #Learning Rate\n",
    "        \n",
    "        self.optim = optim.SGD(self.parameters(), self.lr)\n",
    "        \n",
    "        self.sgd_iterations = sgd_iterations #SGD steps\n",
    "        \n",
    "        self.criterion = nn.BCELoss()\n",
    "        \n",
    "        # A list to store the loss evolution along training\n",
    "        \n",
    "        self.loss_during_training = [] \n",
    "        \n",
    "        self.print_every = print_every\n",
    "        \n",
    "    def train(self,x,y):\n",
    "        \n",
    "        # SGD Loop\n",
    "        \n",
    "        for iter in range(int(self.sgd_iterations)):\n",
    "        \n",
    "            self.optim.zero_grad()  #TO RESET GRADIENTS!\n",
    "\n",
    "            out = self.forward(x)\n",
    "\n",
    "            loss = self.criterion(out, y.view(x.shape[0], 1))\n",
    "\n",
    "            self.loss_during_training.append(loss.item())\n",
    "\n",
    "            loss.backward()\n",
    "\n",
    "            self.optim.step()\n",
    "        \n",
    "            if(iter % self.print_every == 0): # Every 1000 iterations\n",
    "                \n",
    "                print(\"Training loss after %d iterations: %f\" \n",
    "                      %(iter,self.loss_during_training[-1]))\n",
    "        "
   ]
  },
  {
   "cell_type": "markdown",
   "metadata": {
    "id": "CkHhQ-co1tbn"
   },
   "source": [
    "Lets instantiate the class and train the logistic regressor. See how compact and easy is now (OOP is great!)."
   ]
  },
  {
   "cell_type": "code",
   "execution_count": null,
   "metadata": {
    "colab": {
     "base_uri": "https://localhost:8080/"
    },
    "id": "CL7CoGFV1tbn",
    "outputId": "bb11a6ca-29fb-4538-e44d-d0c94ef050f3"
   },
   "outputs": [],
   "source": [
    "my_LR = LR_extended(x.shape[1], sgd_iterations=3000, lr=0.001)\n",
    "\n",
    "my_LR.train(torch.tensor(x), torch.tensor(y))"
   ]
  },
  {
   "cell_type": "markdown",
   "metadata": {
    "id": "fLHaZXZz1tbn"
   },
   "source": [
    "Note that if you believe that training isn't finished yet, you can simply call again the `.train()` method."
   ]
  },
  {
   "cell_type": "code",
   "execution_count": null,
   "metadata": {
    "colab": {
     "base_uri": "https://localhost:8080/"
    },
    "id": "IDl0lGuQ1tbn",
    "outputId": "325d7bdc-4cea-4bfe-c230-38861d5a5d61"
   },
   "outputs": [],
   "source": [
    "my_LR.train(torch.tensor(x), torch.tensor(y))"
   ]
  },
  {
   "cell_type": "markdown",
   "metadata": {
    "id": "BZr4fbhG1tbo"
   },
   "source": [
    "> **Exercise**: Train from scratch the logistic regressor for 20.000 iterations and plot the evolution of the binary cross entropy loss."
   ]
  },
  {
   "cell_type": "code",
   "execution_count": null,
   "metadata": {
    "colab": {
     "base_uri": "https://localhost:8080/",
     "height": 465
    },
    "id": "5kX18X8O1tbo",
    "outputId": "9abb8db2-3953-4b47-f1e8-f1af86b4f997"
   },
   "outputs": [],
   "source": [
    "# YOUR CODE HERE\n",
    "\n",
    "my_LR = LR_extended(x.shape[1], sgd_iterations=2e4, lr=0.001, print_every=2000)\n",
    "\n",
    "my_LR.train(torch.tensor(x), torch.tensor(y))\n",
    "\n",
    "plt.plot(my_LR.loss_during_training, '-b', label='BCE Loss')\n",
    "plt.xlabel('Iterations')\n",
    "plt.ylabel('Loss')"
   ]
  },
  {
   "cell_type": "markdown",
   "metadata": {
    "id": "GyRPUEMP1tbo"
   },
   "source": [
    "> **Exercise**: Print all model parameters (e.g. weights and bias)"
   ]
  },
  {
   "cell_type": "code",
   "execution_count": null,
   "metadata": {
    "colab": {
     "base_uri": "https://localhost:8080/"
    },
    "id": "EFMQPTqB1tbo",
    "outputId": "94826718-cf93-4cb9-c22a-ce855ef8c2ff"
   },
   "outputs": [],
   "source": [
    "#YOUR CODE HERE\n",
    "\n",
    "print(list(my_LR.parameters()))"
   ]
  },
  {
   "cell_type": "markdown",
   "metadata": {
    "id": "Nc_xW-sW1tbo"
   },
   "source": [
    "#### Evaluating the model in the test set\n",
    "\n",
    "Now that we have trained our logistic regressor, it is time to compare its performance in both the training and the test sets.\n",
    "\n",
    "> **Exercise**: Compute the logistic regressor output for both the training data and the test data."
   ]
  },
  {
   "cell_type": "code",
   "execution_count": null,
   "metadata": {
    "id": "jXrRykxJ1tbp"
   },
   "outputs": [],
   "source": [
    "out_train = my_LR.forward(torch.tensor(x))\n",
    "\n",
    "# YOUR CODE HERE\n",
    "xtest = np.array(test_data).astype(np.float32)\n",
    "# Last column is the class\n",
    "ytest = xtest[:, -1]   \n",
    "xtest = xtest[:, :-1]\n",
    "\n",
    "out_test = my_LR.forward(torch.tensor(xtest))"
   ]
  },
  {
   "cell_type": "markdown",
   "metadata": {
    "id": "YeLS77mh1tbp"
   },
   "source": [
    "Recall that the logistic regressor output is an estimated class probability. Assuming we put the threshold at a probability of 0.5, lets count the number of correct predictions in both sets."
   ]
  },
  {
   "cell_type": "code",
   "execution_count": null,
   "metadata": {
    "colab": {
     "base_uri": "https://localhost:8080/"
    },
    "id": "i69N50TP1tbp",
    "outputId": "73ec82ed-b5b5-415c-a2fc-ea3fb13703cb"
   },
   "outputs": [],
   "source": [
    "accuracy_rate_train = np.sum((out_train.detach().numpy()>=0.5) \n",
    "                          == y.reshape([-1, 1]))/y.shape[0]\n",
    "\n",
    "accuracy_rate_test = np.sum((out_test.detach().numpy()>=0.5) \n",
    "                         == ytest.reshape([-1, 1]))/ytest.shape[0]\n",
    "\n",
    "print(accuracy_rate_train)\n",
    "\n",
    "print(accuracy_rate_test)"
   ]
  },
  {
   "cell_type": "markdown",
   "metadata": {
    "id": "p2SXz3rs1tbp"
   },
   "source": [
    "## Part V. Training a Logistic Regressor with mini-batch stochastic gradient descent\n",
    "\n",
    "Finally, we are going to implement an scalable version of the gradient descent training implemented above. At every iteration, instead of evaluating the gradient using all data points, a small minibatch of data will be used.\n",
    "\n",
    "To make sure that all training data points are evenly used to evaluate the gradient, we will use a short iterating function. Instead of predefining a certain number of SGD iterations, we define a certain number of **epochs**. After every epoch **all datapoints** have been used in the optimizer once. \n",
    "\n",
    "\n",
    "> **Exercise**: Complete the code for the following class"
   ]
  },
  {
   "cell_type": "code",
   "execution_count": null,
   "metadata": {
    "id": "STi1VNFZ1tbp"
   },
   "outputs": [],
   "source": [
    "''' This class inherits from the LR_compact class. So it has the same atributes\n",
    "and methods, and some others that we will add. \n",
    "'''\n",
    "class LR_stochastic(LR_compact):\n",
    "    \n",
    "    def __init__(self, dimx, num_train_data,\n",
    "                 epochs=100, lr=0.001, batch_size=50, print_every=20):\n",
    "        \n",
    "        super().__init__(dimx)  #To initialize LR2!\n",
    "        \n",
    "        self.lr = lr #Learning Rate\n",
    "        \n",
    "        self.optim = optim.SGD(self.parameters(), self.lr)\n",
    "        \n",
    "        self.epochs = epochs\n",
    "        \n",
    "        self.print_every = print_every  # Print loss every \n",
    "        \n",
    "        self.criterion = nn.BCELoss()\n",
    "        \n",
    "        # A list to store the loss evolution along training\n",
    "        \n",
    "        self.loss_during_training = [] \n",
    "        \n",
    "        self.batch_size = batch_size\n",
    "        \n",
    "        self.num_train = num_train_data\n",
    "        \n",
    "        self.num_batchs = np.floor(self.num_train/self.batch_size)\n",
    "        \n",
    "        \n",
    "    def train(self, x, y):\n",
    "        \n",
    "        # SGD Loop\n",
    "        \n",
    "        for e in range(int(self.epochs)):\n",
    "            \n",
    "            # Random data permutation at each epoch\n",
    "            \n",
    "            idx = np.random.permutation(self.num_train)\n",
    "            \n",
    "            running_loss = 0.\n",
    "            \n",
    "            for i in range(int(self.num_batchs)):\n",
    "        \n",
    "                self.optim.zero_grad()  #TO RESET GRADIENTS!\n",
    "            \n",
    "                # Indexes of the datapoints that enter the batch\n",
    "            \n",
    "                idx_batch = idx[i*self.batch_size:(i+1)*self.batch_size]\n",
    "\n",
    "                out = self.forward(x[idx_batch,:]) \n",
    "\n",
    "                #YOUR CODE HERE\n",
    "                loss = self.criterion(out, y[idx_batch].view(self.batch_size, 1))\n",
    "\n",
    "                running_loss += loss.item()\n",
    "\n",
    "                #YOUR CODE HERE. Compute gradients\n",
    "                loss.backward()\n",
    "                \n",
    "                #YOUR CODE HERE. Perform one SGD step\n",
    "                self.optim.step()\n",
    "                \n",
    "            self.loss_during_training.append(running_loss/self.num_batchs)\n",
    "\n",
    "            if(e % self.print_every == 0): # Every 10 epochs\n",
    "\n",
    "                print(\"Training loss after %d epochs: %f\" \n",
    "                      %(e,self.loss_during_training[-1]))\n"
   ]
  },
  {
   "cell_type": "markdown",
   "metadata": {
    "id": "doUTvSdH1tbp"
   },
   "source": [
    "> **Exercise**: Train a logistic regressor with minibatch-stochastic gradient descent with different batch sizes (10,20,50 and 100) and plot the evolution of the loss function for all cases in the same plot. \n",
    "Also, compare with the evolution of the loss function when all data is used. Note that when all datapoints are used, every GD iteration correspond to a **full epoch**. Explain the results.\n",
    ">\n",
    "> Finally, observe if in all cases the parameters of the models (weights and biases) are similar."
   ]
  },
  {
   "cell_type": "code",
   "execution_count": null,
   "metadata": {
    "colab": {
     "base_uri": "https://localhost:8080/",
     "height": 720
    },
    "id": "uTMuI1Rl1tbq",
    "outputId": "16d4d904-5898-462d-a0f2-46c3075576d1"
   },
   "outputs": [],
   "source": [
    "#YOUR CODE HERE\n",
    "\n",
    "my_LR_100 = LR_stochastic(x.shape[1],num_train_data=x.shape[0],epochs=500, batch_size=100,lr=0.001,print_every=100)\n",
    "my_LR_100.train(torch.tensor(x),torch.tensor(y))\n",
    "\n",
    "my_LR_50 = LR_stochastic(x.shape[1],num_train_data=x.shape[0],epochs=500, batch_size=50,lr=0.001,print_every=100)\n",
    "my_LR_50.train(torch.tensor(x),torch.tensor(y))\n",
    "\n",
    "my_LR_20 = LR_stochastic(x.shape[1],num_train_data=x.shape[0],epochs=500, batch_size=20,lr=0.001,print_every=100)\n",
    "my_LR_20.train(torch.tensor(x),torch.tensor(y))\n",
    "\n",
    "my_LR_10 = LR_stochastic(x.shape[1],num_train_data=x.shape[0],epochs=500, batch_size=10,lr=0.001,print_every=100)\n",
    "my_LR_10.train(torch.tensor(x),torch.tensor(y))\n",
    "\n",
    "my_LR_ = LR_stochastic(x.shape[1],num_train_data=x.shape[0],epochs=500, batch_size=x.shape[0],lr=0.001,print_every=100)\n",
    "my_LR_.train(torch.tensor(x),torch.tensor(y))\n",
    "\n",
    "plt.plot(my_LR_100.loss_during_training,'-b',label='100')\n",
    "plt.plot(my_LR_50.loss_during_training,'-g',label='50')\n",
    "plt.plot(my_LR_20.loss_during_training,'-r',label='20')\n",
    "plt.plot(my_LR_10.loss_during_training,'-y',label='10')\n",
    "plt.plot(my_LR_.loss_during_training,'-',label='full')\n",
    "plt.xlabel('Iterations')\n",
    "plt.ylabel('Loss')\n",
    "plt.legend()\n"
   ]
  },
  {
   "cell_type": "markdown",
   "metadata": {
    "id": "7Q72tFVn1tbq"
   },
   "source": [
    "> **Exercise**: Add a method to the above class that evaluates the classification acuracy rate for a given set of data points and the corresponding labels. Hint: we have done this previously in the notebook, you only  have to encapsulate it in the class as a new method.\n",
    ">\n",
    ">Recall to disable gradient computation for these computations (it saves time and operations!)\n",
    ">\n",
    "> Then, train the model, plot the loss function per epoch and print the accuracy rate."
   ]
  },
  {
   "cell_type": "code",
   "execution_count": null,
   "metadata": {
    "id": "ibAi_92Q1tbq"
   },
   "outputs": [],
   "source": [
    "#YOUR CODE HERE\n",
    "\n",
    "''' This class inherits from the LR_compact class. So it has the same atributes\n",
    "and methods, and some others that we will add. \n",
    "'''\n",
    "class LR_stochastic(LR_compact):\n",
    "    \n",
    "    def __init__(self,dimx,num_train_data,\n",
    "                 epochs=100,lr=0.001,batch_size=50,print_every=20):\n",
    "        \n",
    "        super().__init__(dimx)  #To initialize LR2!\n",
    "        \n",
    "        self.lr = lr #Learning Rate\n",
    "        \n",
    "        self.optim = optim.SGD(self.parameters(), self.lr)\n",
    "        \n",
    "        self.epochs = epochs\n",
    "        \n",
    "        self.print_every = print_every  # Print loss every \n",
    "        \n",
    "        self.criterion = nn.BCELoss()\n",
    "        \n",
    "        # A list to store the loss evolution along training\n",
    "        \n",
    "        self.loss_during_training = [] \n",
    "        \n",
    "        self.batch_size = batch_size\n",
    "        \n",
    "        self.num_train = num_train_data\n",
    "        \n",
    "        self.num_batchs = np.floor(self.num_train/self.batch_size)\n",
    "        \n",
    "    def accuracy_rate(self, x, y):\n",
    "        \n",
    "        with torch.no_grad():\n",
    "            \n",
    "            out = self.forward(x)\n",
    "            \n",
    "            accuracy_rate = np.sum((out.detach().numpy()>=0.5)== y.reshape([-1,1]))/y.shape[0]\n",
    "\n",
    "        return accuracy_rate\n",
    "            \n",
    "        \n",
    "        \n",
    "    def train(self,x,y):\n",
    "        \n",
    "        # SGD Loop\n",
    "        \n",
    "        for e in range(int(self.epochs)):\n",
    "            \n",
    "            # Random data permutation at each epoch\n",
    "            \n",
    "            idx = np.random.permutation(self.num_train)\n",
    "            \n",
    "            running_loss = 0.\n",
    "            \n",
    "            for i in range(int(self.num_batchs)):\n",
    "        \n",
    "                self.optim.zero_grad()  #TO RESET GRADIENTS!\n",
    "            \n",
    "                # Indexes of the datapoints that enter the batch\n",
    "            \n",
    "                idx_batch = idx[i*self.batch_size:(i+1)*self.batch_size]\n",
    "\n",
    "                out = self.forward(x[idx_batch,:]) \n",
    "\n",
    "                #Your code here\n",
    "                loss = self.criterion(out,y[idx_batch].view(self.batch_size,1))\n",
    "\n",
    "                running_loss += loss.item()\n",
    "\n",
    "                #Your code here\n",
    "                loss.backward()\n",
    "                \n",
    "                #Your code here\n",
    "                self.optim.step()\n",
    "                \n",
    "            self.loss_during_training.append(running_loss/self.num_batchs)\n",
    "\n",
    "            if(e % self.print_every == 0): # Every 10 epochs\n",
    "\n",
    "                print(\"Training loss after %d epochs: %f\" \n",
    "                      %(e,self.loss_during_training[-1]))\n"
   ]
  },
  {
   "cell_type": "code",
   "execution_count": null,
   "metadata": {
    "colab": {
     "base_uri": "https://localhost:8080/",
     "height": 329
    },
    "id": "R88oFtO51tbq",
    "outputId": "3a5f01d4-d34d-4a29-d729-2c9fa16b4fbb"
   },
   "outputs": [],
   "source": [
    "my_LR = LR_stochastic(x.shape[1],num_train_data=x.shape[0],epochs=500,\n",
    "                              batch_size=100,lr=0.001,print_every=250)\n",
    "\n",
    "my_LR.train(torch.tensor(x),torch.tensor(y))\n",
    "\n",
    "plt.plot(my_LR.loss_during_training,'-b',label='BCE Loss')\n",
    "plt.xlabel('Iterations')\n",
    "plt.ylabel('Loss')"
   ]
  },
  {
   "cell_type": "code",
   "execution_count": null,
   "metadata": {
    "colab": {
     "base_uri": "https://localhost:8080/"
    },
    "id": "YU8BkBn31tbq",
    "outputId": "233b0f29-bd6a-4e15-9c27-d8710e4ed256"
   },
   "outputs": [],
   "source": [
    "my_LR.accuracy_rate(torch.tensor(x), y)"
   ]
  },
  {
   "cell_type": "code",
   "execution_count": null,
   "metadata": {
    "id": "89FVl2ZrcokZ"
   },
   "outputs": [],
   "source": []
  }
 ],
 "metadata": {
  "colab": {
   "collapsed_sections": [],
   "name": "Pytorch_Log_Regression.ipynb",
   "provenance": []
  },
  "kernelspec": {
   "display_name": "Python 3 (ipykernel)",
   "language": "python",
   "name": "python3"
  },
  "language_info": {
   "codemirror_mode": {
    "name": "ipython",
    "version": 3
   },
   "file_extension": ".py",
   "mimetype": "text/x-python",
   "name": "python",
   "nbconvert_exporter": "python",
   "pygments_lexer": "ipython3",
   "version": "3.11.2"
  }
 },
 "nbformat": 4,
 "nbformat_minor": 1
}
